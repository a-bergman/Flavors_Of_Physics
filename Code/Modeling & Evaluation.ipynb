{
 "cells": [
  {
   "cell_type": "markdown",
   "metadata": {},
   "source": [
    "# Part 2: Modeling & Evaluation"
   ]
  },
  {
   "cell_type": "markdown",
   "metadata": {},
   "source": [
    "## Imports"
   ]
  },
  {
   "cell_type": "code",
   "execution_count": 1,
   "metadata": {},
   "outputs": [
    {
     "data": {
      "text/html": [
       "<style>.container { width:95% !important; }</style>"
      ],
      "text/plain": [
       "<IPython.core.display.HTML object>"
      ]
     },
     "metadata": {},
     "output_type": "display_data"
    }
   ],
   "source": [
    "# Standard Imports\n",
    "import warnings\n",
    "import pandas                             as pd\n",
    "import numpy                              as np\n",
    "import matplotlib.pyplot                  as plt\n",
    "\n",
    "# Modeling & Preprocessing Imports\n",
    "from sklearn.model_selection              import train_test_split, cross_val_score\n",
    "from sklearn.model_selection              import GridSearchCV\n",
    "from sklearn.pipeline                     import Pipeline\n",
    "from sklearn.preprocessing                import MinMaxScaler\n",
    "from sklearn.decomposition                import PCA\n",
    "from sklearn.neighbors                    import KNeighborsClassifier\n",
    "from sklearn.ensemble                     import RandomForestClassifier\n",
    "from sklearn.ensemble                     import AdaBoostClassifier\n",
    "from sklearn.linear_model                 import SGDClassifier\n",
    "from xgboost                              import XGBClassifier\n",
    "\n",
    "# Evaluation Metrics\n",
    "from sklearn.metrics                      import accuracy_score, recall_score\n",
    "from sklearn.metrics                      import roc_auc_score, matthews_corrcoef\n",
    "from statsmodels.stats.contingency_tables import mcnemar\n",
    "\n",
    "\n",
    "# Custom Modules & Visualizations\n",
    "import graphs\n",
    "from model_evaluation                     import confusion_matrix_dataframe, classification_summary\n",
    "from model_evaluation                     import specificity, roc_curve\n",
    "\n",
    "# Appearance\n",
    "from IPython.core.display                 import display, HTML\n",
    "from IPython.display                      import display_html\n",
    "\n",
    "# Notebook Preferences\n",
    "display(HTML(\"<style>.container { width:95% !important; }</style>\"))\n",
    "warnings.filterwarnings(\"ignore\")\n",
    "%matplotlib inline"
   ]
  },
  {
   "cell_type": "markdown",
   "metadata": {},
   "source": [
    "## Table Of Contents\n",
    "\n",
    "- [Data Overview](#Data-Overview)\n",
    "    - [Reading In The Data](#Reading-In-The-Data)\n",
    "    - [Overview](#Overview)\n",
    "    \n",
    "- [Preprocessing](#Preprocessing)\n",
    "    - [Train-Test Split](#Train-Test-Split)\n",
    "    - [Principal Component Analysis](#Principal-Component-Analysis)\n",
    "    \n",
    "- [Modeling](#Modeling)\n",
    "    - [_k_-Neighbors Classifier](#_k_-Neighbors-Classifier)\n",
    "    - [Random Forest Classifier](#Random-Forest-Classifier)\n",
    "    - [SGD Logistic Regressor](#SGD-Logistic-Regression)\n",
    "    - [XGBoost Classifier](#XGBoost-Classifier)\n",
    "    - [AdaBoost Classification](#AdaBoost-Classification)\n",
    "    \n",
    "- [Evaluation](#Evaluation)\n",
    "    - [Predictions Dataframe](#Predictions-Dataframe)\n",
    "    - [Metric Scores Dataframe](#Metric-Scores-Dataframe)\n",
    "    - [Metric Scores Comparison](#Metric-Scores-Comparison)\n",
    "    - [Best Model Selection](#Best-Model-Metrics)\n",
    "        - [Best Model Metrics](#Best-Model-Metrics)\n",
    "        - [Best Model Curve](#Best-Model-Curve)"
   ]
  },
  {
   "cell_type": "markdown",
   "metadata": {},
   "source": [
    "## Data Overview"
   ]
  },
  {
   "cell_type": "markdown",
   "metadata": {},
   "source": [
    "### Reading In The Daa"
   ]
  },
  {
   "cell_type": "code",
   "execution_count": 2,
   "metadata": {},
   "outputs": [],
   "source": [
    "phys_data = pd.read_csv(\"../Data/clean_phys_data.csv\")"
   ]
  },
  {
   "cell_type": "markdown",
   "metadata": {},
   "source": [
    "### Overview"
   ]
  },
  {
   "cell_type": "code",
   "execution_count": 3,
   "metadata": {},
   "outputs": [
    {
     "data": {
      "text/html": [
       "<div>\n",
       "<style scoped>\n",
       "    .dataframe tbody tr th:only-of-type {\n",
       "        vertical-align: middle;\n",
       "    }\n",
       "\n",
       "    .dataframe tbody tr th {\n",
       "        vertical-align: top;\n",
       "    }\n",
       "\n",
       "    .dataframe thead th {\n",
       "        text-align: right;\n",
       "    }\n",
       "</style>\n",
       "<table border=\"1\" class=\"dataframe\">\n",
       "  <thead>\n",
       "    <tr style=\"text-align: right;\">\n",
       "      <th></th>\n",
       "      <th>id</th>\n",
       "      <th>life_time</th>\n",
       "      <th>dira</th>\n",
       "      <th>flight_distance</th>\n",
       "      <th>flight_distance_error</th>\n",
       "      <th>ip</th>\n",
       "      <th>ip_sig</th>\n",
       "      <th>vertex_chi2</th>\n",
       "      <th>pt</th>\n",
       "      <th>doca1</th>\n",
       "      <th>...</th>\n",
       "      <th>p1_pt</th>\n",
       "      <th>p2_pt</th>\n",
       "      <th>p0_p</th>\n",
       "      <th>p1_p</th>\n",
       "      <th>p2_p</th>\n",
       "      <th>p0_eta</th>\n",
       "      <th>p1_eta</th>\n",
       "      <th>p2_eta</th>\n",
       "      <th>spdhits</th>\n",
       "      <th>signal</th>\n",
       "    </tr>\n",
       "  </thead>\n",
       "  <tbody>\n",
       "    <tr>\n",
       "      <th>0</th>\n",
       "      <td>18453471</td>\n",
       "      <td>0.001578</td>\n",
       "      <td>0.999999</td>\n",
       "      <td>14.033335</td>\n",
       "      <td>0.681401</td>\n",
       "      <td>0.016039</td>\n",
       "      <td>0.451886</td>\n",
       "      <td>1.900433</td>\n",
       "      <td>1482.037476</td>\n",
       "      <td>0.066667</td>\n",
       "      <td>...</td>\n",
       "      <td>448.369446</td>\n",
       "      <td>1393.246826</td>\n",
       "      <td>3842.096436</td>\n",
       "      <td>12290.760742</td>\n",
       "      <td>39264.398438</td>\n",
       "      <td>3.076006</td>\n",
       "      <td>4.003800</td>\n",
       "      <td>4.031514</td>\n",
       "      <td>458</td>\n",
       "      <td>0</td>\n",
       "    </tr>\n",
       "    <tr>\n",
       "      <th>1</th>\n",
       "      <td>5364094</td>\n",
       "      <td>0.000988</td>\n",
       "      <td>0.999705</td>\n",
       "      <td>5.536157</td>\n",
       "      <td>0.302341</td>\n",
       "      <td>0.142163</td>\n",
       "      <td>9.564503</td>\n",
       "      <td>0.865666</td>\n",
       "      <td>3050.720703</td>\n",
       "      <td>0.024022</td>\n",
       "      <td>...</td>\n",
       "      <td>2033.918701</td>\n",
       "      <td>747.137024</td>\n",
       "      <td>8299.368164</td>\n",
       "      <td>16562.667969</td>\n",
       "      <td>7341.257812</td>\n",
       "      <td>3.228553</td>\n",
       "      <td>2.786543</td>\n",
       "      <td>2.975564</td>\n",
       "      <td>406</td>\n",
       "      <td>0</td>\n",
       "    </tr>\n",
       "    <tr>\n",
       "      <th>2</th>\n",
       "      <td>11130990</td>\n",
       "      <td>0.000877</td>\n",
       "      <td>0.999984</td>\n",
       "      <td>6.117302</td>\n",
       "      <td>0.276463</td>\n",
       "      <td>0.034746</td>\n",
       "      <td>1.970751</td>\n",
       "      <td>10.975849</td>\n",
       "      <td>3895.908691</td>\n",
       "      <td>0.055044</td>\n",
       "      <td>...</td>\n",
       "      <td>2576.380615</td>\n",
       "      <td>963.652466</td>\n",
       "      <td>11323.134766</td>\n",
       "      <td>22695.388672</td>\n",
       "      <td>10225.309570</td>\n",
       "      <td>3.536903</td>\n",
       "      <td>2.865686</td>\n",
       "      <td>3.052810</td>\n",
       "      <td>196</td>\n",
       "      <td>0</td>\n",
       "    </tr>\n",
       "    <tr>\n",
       "      <th>3</th>\n",
       "      <td>15173787</td>\n",
       "      <td>0.000854</td>\n",
       "      <td>0.999903</td>\n",
       "      <td>5.228067</td>\n",
       "      <td>0.220739</td>\n",
       "      <td>0.076389</td>\n",
       "      <td>4.271331</td>\n",
       "      <td>3.276358</td>\n",
       "      <td>4010.781738</td>\n",
       "      <td>0.053779</td>\n",
       "      <td>...</td>\n",
       "      <td>1351.734131</td>\n",
       "      <td>1685.003662</td>\n",
       "      <td>11502.081055</td>\n",
       "      <td>16909.515625</td>\n",
       "      <td>9141.426758</td>\n",
       "      <td>3.087461</td>\n",
       "      <td>3.218034</td>\n",
       "      <td>2.375592</td>\n",
       "      <td>137</td>\n",
       "      <td>0</td>\n",
       "    </tr>\n",
       "    <tr>\n",
       "      <th>4</th>\n",
       "      <td>1102544</td>\n",
       "      <td>0.001129</td>\n",
       "      <td>0.999995</td>\n",
       "      <td>39.069534</td>\n",
       "      <td>1.898197</td>\n",
       "      <td>0.120936</td>\n",
       "      <td>4.984982</td>\n",
       "      <td>0.468348</td>\n",
       "      <td>4144.546875</td>\n",
       "      <td>0.004491</td>\n",
       "      <td>...</td>\n",
       "      <td>1755.792236</td>\n",
       "      <td>1282.428711</td>\n",
       "      <td>74117.117188</td>\n",
       "      <td>97612.804688</td>\n",
       "      <td>47118.785156</td>\n",
       "      <td>4.632295</td>\n",
       "      <td>4.711155</td>\n",
       "      <td>4.296878</td>\n",
       "      <td>477</td>\n",
       "      <td>0</td>\n",
       "    </tr>\n",
       "  </tbody>\n",
       "</table>\n",
       "<p>5 rows × 48 columns</p>\n",
       "</div>"
      ],
      "text/plain": [
       "         id  life_time      dira  flight_distance  flight_distance_error  \\\n",
       "0  18453471   0.001578  0.999999        14.033335               0.681401   \n",
       "1   5364094   0.000988  0.999705         5.536157               0.302341   \n",
       "2  11130990   0.000877  0.999984         6.117302               0.276463   \n",
       "3  15173787   0.000854  0.999903         5.228067               0.220739   \n",
       "4   1102544   0.001129  0.999995        39.069534               1.898197   \n",
       "\n",
       "         ip    ip_sig  vertex_chi2           pt     doca1  ...        p1_pt  \\\n",
       "0  0.016039  0.451886     1.900433  1482.037476  0.066667  ...   448.369446   \n",
       "1  0.142163  9.564503     0.865666  3050.720703  0.024022  ...  2033.918701   \n",
       "2  0.034746  1.970751    10.975849  3895.908691  0.055044  ...  2576.380615   \n",
       "3  0.076389  4.271331     3.276358  4010.781738  0.053779  ...  1351.734131   \n",
       "4  0.120936  4.984982     0.468348  4144.546875  0.004491  ...  1755.792236   \n",
       "\n",
       "         p2_pt          p0_p          p1_p          p2_p    p0_eta    p1_eta  \\\n",
       "0  1393.246826   3842.096436  12290.760742  39264.398438  3.076006  4.003800   \n",
       "1   747.137024   8299.368164  16562.667969   7341.257812  3.228553  2.786543   \n",
       "2   963.652466  11323.134766  22695.388672  10225.309570  3.536903  2.865686   \n",
       "3  1685.003662  11502.081055  16909.515625   9141.426758  3.087461  3.218034   \n",
       "4  1282.428711  74117.117188  97612.804688  47118.785156  4.632295  4.711155   \n",
       "\n",
       "     p2_eta  spdhits  signal  \n",
       "0  4.031514      458       0  \n",
       "1  2.975564      406       0  \n",
       "2  3.052810      196       0  \n",
       "3  2.375592      137       0  \n",
       "4  4.296878      477       0  \n",
       "\n",
       "[5 rows x 48 columns]"
      ]
     },
     "execution_count": 3,
     "metadata": {},
     "output_type": "execute_result"
    }
   ],
   "source": [
    "# Head five rows\n",
    "\n",
    "phys_data.head()"
   ]
  },
  {
   "cell_type": "code",
   "execution_count": 4,
   "metadata": {},
   "outputs": [
    {
     "name": "stdout",
     "output_type": "stream",
     "text": [
      "The dataframe has 67553 rows and 48 rows.\n"
     ]
    }
   ],
   "source": [
    "# Shape of the data\n",
    "\n",
    "print(f\"The dataframe has {phys_data.shape[0]} rows and {phys_data.shape[1]} rows.\")"
   ]
  },
  {
   "cell_type": "code",
   "execution_count": 5,
   "metadata": {},
   "outputs": [
    {
     "data": {
      "text/plain": [
       "id                         int64\n",
       "life_time                float64\n",
       "dira                     float64\n",
       "flight_distance          float64\n",
       "flight_distance_error    float64\n",
       "ip                       float64\n",
       "ip_sig                   float64\n",
       "vertex_chi2              float64\n",
       "pt                       float64\n",
       "doca1                    float64\n",
       "doca2                    float64\n",
       "doca3                    float64\n",
       "ip_p0p2                  float64\n",
       "ip_p1p2                  float64\n",
       "isolationa                 int64\n",
       "isolationb                 int64\n",
       "isolationc                 int64\n",
       "isolationd               float64\n",
       "isolatione               float64\n",
       "isolationf               float64\n",
       "iso                      float64\n",
       "cdf1                     float64\n",
       "cdf2                     float64\n",
       "cdf3                     float64\n",
       "iso_sum_bdt              float64\n",
       "p0_iso_bdt               float64\n",
       "p1_iso_bdt               float64\n",
       "p2_iso_bdt               float64\n",
       "p0_track_chi2_dof        float64\n",
       "p1_track_chi2_dof        float64\n",
       "p2_track_chi2_dof        float64\n",
       "p0_ip                    float64\n",
       "p1_ip                    float64\n",
       "p2_ip                    float64\n",
       "p0_ip_sig                float64\n",
       "p1_ip_sig                float64\n",
       "p2_ip_sig                float64\n",
       "p0_pt                    float64\n",
       "p1_pt                    float64\n",
       "p2_pt                    float64\n",
       "p0_p                     float64\n",
       "p1_p                     float64\n",
       "p2_p                     float64\n",
       "p0_eta                   float64\n",
       "p1_eta                   float64\n",
       "p2_eta                   float64\n",
       "spdhits                    int64\n",
       "signal                     int64\n",
       "dtype: object"
      ]
     },
     "execution_count": 5,
     "metadata": {},
     "output_type": "execute_result"
    }
   ],
   "source": [
    "# Data types\n",
    "\n",
    "phys_data.dtypes"
   ]
  },
  {
   "cell_type": "code",
   "execution_count": 6,
   "metadata": {},
   "outputs": [
    {
     "data": {
      "text/plain": [
       "0"
      ]
     },
     "execution_count": 6,
     "metadata": {},
     "output_type": "execute_result"
    }
   ],
   "source": [
    "# Missing Values\n",
    "\n",
    "phys_data.isnull().sum().sum()"
   ]
  },
  {
   "cell_type": "markdown",
   "metadata": {},
   "source": [
    "## Preprocessing"
   ]
  },
  {
   "cell_type": "markdown",
   "metadata": {},
   "source": [
    "### Train-Test Split"
   ]
  },
  {
   "cell_type": "code",
   "execution_count": 7,
   "metadata": {},
   "outputs": [],
   "source": [
    "# Setting up our X and y variables\n",
    "\n",
    "X = phys_data.drop([\"id\", \"signal\"], axis = 1)\n",
    "y = phys_data[\"signal\"]"
   ]
  },
  {
   "cell_type": "markdown",
   "metadata": {},
   "source": [
    "The `X` variable contains the features from the data and the `y` contains the actual target values."
   ]
  },
  {
   "cell_type": "code",
   "execution_count": 8,
   "metadata": {},
   "outputs": [],
   "source": [
    "# Instantiating the train-test split\n",
    "# Stratifying on the `y` allows us to\n",
    "# maintain the ration of the target\n",
    "\n",
    "X_train, X_test, y_train, y_test = train_test_split(X, \n",
    "                                                    y,\n",
    "                                                    random_state = 42,\n",
    "                                                    stratify     = y,\n",
    "                                                    test_size    = 0.3)"
   ]
  },
  {
   "cell_type": "markdown",
   "metadata": {},
   "source": [
    "Because our data has 48 columns, we are concerned that there will be significant variance in our models' performance.  To combat that, we will be making use of principal component analysis (PCA) to reduce the dimensionality of our data.  Because the PCA algorithm re-projects our data and our features all have different scales, we need to scale the data so they are all on  the same scale which will be done with a min-max scaler."
   ]
  },
  {
   "cell_type": "code",
   "execution_count": 9,
   "metadata": {},
   "outputs": [],
   "source": [
    "# MinMax scaling the data for the PCA\n",
    "\n",
    "# Instantiating the scaler\n",
    "mm_scaler  = MinMaxScaler()\n",
    "\n",
    "# Scaling the training data\n",
    "X_train_mm = mm_scaler.fit_transform(X_train)\n",
    "\n",
    "# Scaling the test data\n",
    "X_test_mm  = mm_scaler.fit_transform(X_test)"
   ]
  },
  {
   "cell_type": "markdown",
   "metadata": {},
   "source": [
    "### Principal Component Analysis"
   ]
  },
  {
   "attachments": {
    "explained%20variance%20chart.png": {
     "image/png": "[encoded data removed]"
    }
   },
   "cell_type": "markdown",
   "metadata": {},
   "source": [
    "PCA is a dimensionality reduction techinique that reduces the dimensionality of large data sets by transforming them into smaller ones. This method works by scaling the data (generally by subtracting the mean and then dividing by the standard deviation. Covariance matrices are created, transformed into eigenvectors from which eigenvalues are extracted. The principal components are then ranked by their eigenvalues. Then eigenvectors are created out of the principal components which then have the original values recast onto them.\n",
    "\n",
    "![explained%20variance%20chart.png](attachment:explained%20variance%20chart.png)\n",
    "\n",
    "Based on the image above, we concluded that our ideal number of components is 35."
   ]
  },
  {
   "cell_type": "code",
   "execution_count": 10,
   "metadata": {},
   "outputs": [],
   "source": [
    "# Instantiating PCA\n",
    "pca = PCA(n_components = 35,\n",
    "          random_state = 42,\n",
    "          whiten       = True)\n",
    "\n",
    "# Fit-transforming the training data\n",
    "X_train_pca = pca.fit_transform(X_train_mm)\n",
    "\n",
    "# Fit-transforming the test data\n",
    "X_test_pca  = pca.fit_transform(X_test_mm)"
   ]
  },
  {
   "cell_type": "markdown",
   "metadata": {},
   "source": [
    "## Modeling"
   ]
  },
  {
   "cell_type": "markdown",
   "metadata": {},
   "source": [
    "**Process**:\n",
    "\n",
    "The data will be classified using three different types of algorithms: distance based, decision trees, and logistic regression. Each individual model (four in total) will be gridsearched to ensure that our hyperparameters have optimal values; hyperparameters are parameters that the user must set.  After each model is fit to the data and has made predictions, they will be evaluated in two ways: a confusion matrix and a standardized set of metrics.\n",
    "\n",
    "Additionally, each model will be run on the original data and the data that has been through PCA.\n",
    "\n",
    "**Evaluation**:\n",
    "\n",
    "Our evaluation process has three steps: confusion matrices, metrics, and an ROC curve.\n",
    "\n",
    "The confusion matrix will show us what kind of predictions are made, i.e. false positives and negatives.  Each confusion matrix will contain:\n",
    " \n",
    "|                   | Pred. Neg.      | Pred. Pos.      |\n",
    "|:------------------|:---------------:|:---------------:|\n",
    "| **Actual Neg.** | True Negatives  | False Positives |\n",
    "| **Actual Pos.** | False Negatives | True Positives  |\n",
    "\n",
    "The metrics all us to evaluate the models in different ways.  Each model will be evaluated with the following:\n",
    "\n",
    "| Metric                                     | Description                                                                       | Scale    |\n",
    "|:-------------------------------------------|:----------------------------------------------------------------------------------|:--------:|\n",
    "| **Recall**                                 | How many positive classes were classified correctly out of all positives          | 0 to 1   |\n",
    "| **Specificity**                            | How many negative classes were classified correctly out of all negatives          | 0 to 1   |\n",
    "| **AUROC**                                  | A measure of the model's ability to distinguish classes                           | 0.5 to 1 |\n",
    "| **Matthews Correlation Coefficient (MCC)** | A measure of classification quality: correlation between true and prediced values | -1 to 1  |\n",
    "\n",
    "Finally, once we have chosen a best model we will generate a ROC curve for that model."
   ]
  },
  {
   "cell_type": "markdown",
   "metadata": {},
   "source": [
    "### _k_-Neighbors Classifier"
   ]
  },
  {
   "cell_type": "markdown",
   "metadata": {},
   "source": [
    "_k_-Neighbors classification is a non-parametric algorithm, i.e. it does not make any assumptions about the data.  It works based off of distance: it chooses _k_ points and classifies by choosing the majority."
   ]
  },
  {
   "cell_type": "markdown",
   "metadata": {},
   "source": [
    "#### Original Data"
   ]
  },
  {
   "cell_type": "code",
   "execution_count": 11,
   "metadata": {},
   "outputs": [],
   "source": [
    "\"\"\"\n",
    "# Instantiating the grid search's pipeline\n",
    "knn_pipe  = Pipeline([(\"knn\", KNeighborsClassifier(n_jobs = 4))])\n",
    "\n",
    "# Setting up a hyperparameter dictionary\n",
    "# These are the optimal values\n",
    "params    = dict(knn__n_neighbors  = [7],\n",
    "                 knn__weights      = [\"uniform\"],\n",
    "                 knn__algorithm    = [\"auto\"])\n",
    "\n",
    "# Setting up the gridsearch object\n",
    "knn_gs    = GridSearchCV(knn_pipe, \n",
    "                         param_grid = params,\n",
    "                         cv         = 5)\n",
    "\n",
    "# Fitting the gridsearch to our training data\n",
    "knn_gs.fit(X_train_pca, y_train);\n",
    "\n",
    "# Printing out our best parameters\n",
    "knn_gs.best_params_\n",
    "\"\"\";"
   ]
  },
  {
   "cell_type": "code",
   "execution_count": 12,
   "metadata": {},
   "outputs": [],
   "source": [
    "# Instantiating the KNN classifier\n",
    "\n",
    "knn = KNeighborsClassifier(n_neighbors = 7)"
   ]
  },
  {
   "cell_type": "code",
   "execution_count": 13,
   "metadata": {},
   "outputs": [],
   "source": [
    "# Fitting the algorithm to our training data\n",
    "knn.fit(X_train, y_train)\n",
    "\n",
    "# Making training predictions\n",
    "train_preds = knn.predict(X_train)\n",
    "\n",
    "# Making test predictions\n",
    "knn_preds   = knn.predict(X_test)\n",
    "\n",
    "# Getting test  probabilities\n",
    "knn_probas = knn.predict_proba(X_test)"
   ]
  },
  {
   "cell_type": "code",
   "execution_count": 14,
   "metadata": {},
   "outputs": [
    {
     "data": {
      "text/html": [
       "<div>\n",
       "<style scoped>\n",
       "    .dataframe tbody tr th:only-of-type {\n",
       "        vertical-align: middle;\n",
       "    }\n",
       "\n",
       "    .dataframe tbody tr th {\n",
       "        vertical-align: top;\n",
       "    }\n",
       "\n",
       "    .dataframe thead th {\n",
       "        text-align: right;\n",
       "    }\n",
       "</style>\n",
       "<table border=\"1\" class=\"dataframe\">\n",
       "  <thead>\n",
       "    <tr style=\"text-align: right;\">\n",
       "      <th></th>\n",
       "      <th>Scores</th>\n",
       "    </tr>\n",
       "  </thead>\n",
       "  <tbody>\n",
       "    <tr>\n",
       "      <th>Sensitivity</th>\n",
       "      <td>0.853695</td>\n",
       "    </tr>\n",
       "    <tr>\n",
       "      <th>Specificity</th>\n",
       "      <td>0.476180</td>\n",
       "    </tr>\n",
       "    <tr>\n",
       "      <th>MCC</th>\n",
       "      <td>0.360100</td>\n",
       "    </tr>\n",
       "    <tr>\n",
       "      <th>AUROC</th>\n",
       "      <td>0.664938</td>\n",
       "    </tr>\n",
       "  </tbody>\n",
       "</table>\n",
       "</div>"
      ],
      "text/plain": [
       "               Scores\n",
       "Sensitivity  0.853695\n",
       "Specificity  0.476180\n",
       "MCC          0.360100\n",
       "AUROC        0.664938"
      ]
     },
     "execution_count": 14,
     "metadata": {},
     "output_type": "execute_result"
    }
   ],
   "source": [
    "# Evaluating prediction on the training data\n",
    "\n",
    "classification_summary(y_train, train_preds)"
   ]
  },
  {
   "cell_type": "code",
   "execution_count": 15,
   "metadata": {},
   "outputs": [
    {
     "data": {
      "text/html": [
       "<div>\n",
       "<style scoped>\n",
       "    .dataframe tbody tr th:only-of-type {\n",
       "        vertical-align: middle;\n",
       "    }\n",
       "\n",
       "    .dataframe tbody tr th {\n",
       "        vertical-align: top;\n",
       "    }\n",
       "\n",
       "    .dataframe thead th {\n",
       "        text-align: right;\n",
       "    }\n",
       "</style>\n",
       "<table border=\"1\" class=\"dataframe\">\n",
       "  <thead>\n",
       "    <tr style=\"text-align: right;\">\n",
       "      <th></th>\n",
       "      <th>Scores</th>\n",
       "    </tr>\n",
       "  </thead>\n",
       "  <tbody>\n",
       "    <tr>\n",
       "      <th>Sensitivity</th>\n",
       "      <td>0.776756</td>\n",
       "    </tr>\n",
       "    <tr>\n",
       "      <th>Specificity</th>\n",
       "      <td>0.334106</td>\n",
       "    </tr>\n",
       "    <tr>\n",
       "      <th>MCC</th>\n",
       "      <td>0.122013</td>\n",
       "    </tr>\n",
       "    <tr>\n",
       "      <th>AUROC</th>\n",
       "      <td>0.555431</td>\n",
       "    </tr>\n",
       "  </tbody>\n",
       "</table>\n",
       "</div>"
      ],
      "text/plain": [
       "               Scores\n",
       "Sensitivity  0.776756\n",
       "Specificity  0.334106\n",
       "MCC          0.122013\n",
       "AUROC        0.555431"
      ]
     },
     "execution_count": 15,
     "metadata": {},
     "output_type": "execute_result"
    }
   ],
   "source": [
    "# Evaluating prediction on the test data\n",
    "\n",
    "classification_summary(y_test, knn_preds)"
   ]
  },
  {
   "cell_type": "code",
   "execution_count": 16,
   "metadata": {},
   "outputs": [
    {
     "data": {
      "text/html": [
       "<div>\n",
       "<style scoped>\n",
       "    .dataframe tbody tr th:only-of-type {\n",
       "        vertical-align: middle;\n",
       "    }\n",
       "\n",
       "    .dataframe tbody tr th {\n",
       "        vertical-align: top;\n",
       "    }\n",
       "\n",
       "    .dataframe thead th {\n",
       "        text-align: right;\n",
       "    }\n",
       "</style>\n",
       "<table border=\"1\" class=\"dataframe\">\n",
       "  <thead>\n",
       "    <tr style=\"text-align: right;\">\n",
       "      <th></th>\n",
       "      <th>Predicted τ</th>\n",
       "      <th>Predicted μμμ</th>\n",
       "    </tr>\n",
       "  </thead>\n",
       "  <tbody>\n",
       "    <tr>\n",
       "      <th>Actual τ</th>\n",
       "      <td>2594</td>\n",
       "      <td>5170</td>\n",
       "    </tr>\n",
       "    <tr>\n",
       "      <th>Actual μμμ</th>\n",
       "      <td>2791</td>\n",
       "      <td>9711</td>\n",
       "    </tr>\n",
       "  </tbody>\n",
       "</table>\n",
       "</div>"
      ],
      "text/plain": [
       "            Predicted τ  Predicted μμμ\n",
       "Actual τ           2594           5170\n",
       "Actual μμμ         2791           9711"
      ]
     },
     "execution_count": 16,
     "metadata": {},
     "output_type": "execute_result"
    }
   ],
   "source": [
    "# Creating a confusion matrix from the test predictions\n",
    "\n",
    "confusion_matrix_dataframe(y_test, \n",
    "                           knn_preds,\n",
    "                           columns = [\"Predicted τ\", \"Predicted μμμ\"],\n",
    "                           index   = [\"Actual τ\", \"Actual μμμ\"])"
   ]
  },
  {
   "cell_type": "markdown",
   "metadata": {},
   "source": [
    "#### Principal Component Analysis"
   ]
  },
  {
   "cell_type": "code",
   "execution_count": 17,
   "metadata": {},
   "outputs": [],
   "source": [
    "\"\"\"\n",
    "# Instantiating the grid search's pipeline\n",
    "knn_pipe  = Pipeline([(\"knn\", KNeighborsClassifier(n_jobs = 6))])\n",
    "\n",
    "# Setting up a hyperparameter dictionary\n",
    "# These are the optimal values\n",
    "params    = dict(knn__n_neighbors  = [7],\n",
    "                 knn__weights      = [\"uniform\"],\n",
    "                 knn__algorithm    = [\"auto\"])\n",
    "\n",
    "# Setting up the gridsearch object\n",
    "knn_gs    = GridSearchCV(knn_pipe, \n",
    "                         param_grid = params,\n",
    "                         cv         = 5)\n",
    "\n",
    "# Fitting the gridsearch to our training data\n",
    "knn_gs.fit(X_train_pca, y_train);\n",
    "\n",
    "# Printing out our best parameters\n",
    "knn_gs.best_params_\n",
    "\"\"\";"
   ]
  },
  {
   "cell_type": "code",
   "execution_count": 18,
   "metadata": {},
   "outputs": [],
   "source": [
    "# Instantiating the k neighbors algorithm\n",
    "# The other parameters are their default values\n",
    "\n",
    "knn2 = KNeighborsClassifier(n_neighbors = 7)"
   ]
  },
  {
   "cell_type": "code",
   "execution_count": 19,
   "metadata": {},
   "outputs": [],
   "source": [
    "# Fitting the algorithm to our training data\n",
    "knn2.fit(X_train_pca, y_train)\n",
    "\n",
    "# Making training predictions\n",
    "train_preds = knn2.predict(X_train_pca)\n",
    "\n",
    "# Making test predictions\n",
    "knn2_preds   = knn2.predict(X_test_pca)\n",
    "\n",
    "# Getting test  probabilities\n",
    "knn2_probas = knn2.predict_proba(X_test_pca)"
   ]
  },
  {
   "cell_type": "code",
   "execution_count": 20,
   "metadata": {},
   "outputs": [
    {
     "data": {
      "text/html": [
       "<div>\n",
       "<style scoped>\n",
       "    .dataframe tbody tr th:only-of-type {\n",
       "        vertical-align: middle;\n",
       "    }\n",
       "\n",
       "    .dataframe tbody tr th {\n",
       "        vertical-align: top;\n",
       "    }\n",
       "\n",
       "    .dataframe thead th {\n",
       "        text-align: right;\n",
       "    }\n",
       "</style>\n",
       "<table border=\"1\" class=\"dataframe\">\n",
       "  <thead>\n",
       "    <tr style=\"text-align: right;\">\n",
       "      <th></th>\n",
       "      <th>Scores</th>\n",
       "    </tr>\n",
       "  </thead>\n",
       "  <tbody>\n",
       "    <tr>\n",
       "      <th>Sensitivity</th>\n",
       "      <td>0.970691</td>\n",
       "    </tr>\n",
       "    <tr>\n",
       "      <th>Specificity</th>\n",
       "      <td>0.645487</td>\n",
       "    </tr>\n",
       "    <tr>\n",
       "      <th>MCC</th>\n",
       "      <td>0.678442</td>\n",
       "    </tr>\n",
       "    <tr>\n",
       "      <th>AUROC</th>\n",
       "      <td>0.808089</td>\n",
       "    </tr>\n",
       "  </tbody>\n",
       "</table>\n",
       "</div>"
      ],
      "text/plain": [
       "               Scores\n",
       "Sensitivity  0.970691\n",
       "Specificity  0.645487\n",
       "MCC          0.678442\n",
       "AUROC        0.808089"
      ]
     },
     "execution_count": 20,
     "metadata": {},
     "output_type": "execute_result"
    }
   ],
   "source": [
    "# Evaluating prediction on the training data\n",
    "\n",
    "classification_summary(y_train, train_preds)"
   ]
  },
  {
   "cell_type": "code",
   "execution_count": 21,
   "metadata": {},
   "outputs": [
    {
     "data": {
      "text/html": [
       "<div>\n",
       "<style scoped>\n",
       "    .dataframe tbody tr th:only-of-type {\n",
       "        vertical-align: middle;\n",
       "    }\n",
       "\n",
       "    .dataframe tbody tr th {\n",
       "        vertical-align: top;\n",
       "    }\n",
       "\n",
       "    .dataframe thead th {\n",
       "        text-align: right;\n",
       "    }\n",
       "</style>\n",
       "<table border=\"1\" class=\"dataframe\">\n",
       "  <thead>\n",
       "    <tr style=\"text-align: right;\">\n",
       "      <th></th>\n",
       "      <th>Scores</th>\n",
       "    </tr>\n",
       "  </thead>\n",
       "  <tbody>\n",
       "    <tr>\n",
       "      <th>Sensitivity</th>\n",
       "      <td>0.940410</td>\n",
       "    </tr>\n",
       "    <tr>\n",
       "      <th>Specificity</th>\n",
       "      <td>0.369655</td>\n",
       "    </tr>\n",
       "    <tr>\n",
       "      <th>MCC</th>\n",
       "      <td>0.393740</td>\n",
       "    </tr>\n",
       "    <tr>\n",
       "      <th>AUROC</th>\n",
       "      <td>0.655032</td>\n",
       "    </tr>\n",
       "  </tbody>\n",
       "</table>\n",
       "</div>"
      ],
      "text/plain": [
       "               Scores\n",
       "Sensitivity  0.940410\n",
       "Specificity  0.369655\n",
       "MCC          0.393740\n",
       "AUROC        0.655032"
      ]
     },
     "execution_count": 21,
     "metadata": {},
     "output_type": "execute_result"
    }
   ],
   "source": [
    "# Evaluating prediction on the test data\n",
    "\n",
    "classification_summary(y_test, knn2_preds)"
   ]
  },
  {
   "cell_type": "code",
   "execution_count": 22,
   "metadata": {},
   "outputs": [
    {
     "data": {
      "text/html": [
       "<div>\n",
       "<style scoped>\n",
       "    .dataframe tbody tr th:only-of-type {\n",
       "        vertical-align: middle;\n",
       "    }\n",
       "\n",
       "    .dataframe tbody tr th {\n",
       "        vertical-align: top;\n",
       "    }\n",
       "\n",
       "    .dataframe thead th {\n",
       "        text-align: right;\n",
       "    }\n",
       "</style>\n",
       "<table border=\"1\" class=\"dataframe\">\n",
       "  <thead>\n",
       "    <tr style=\"text-align: right;\">\n",
       "      <th></th>\n",
       "      <th>Predicted τ</th>\n",
       "      <th>Predicted μμμ</th>\n",
       "    </tr>\n",
       "  </thead>\n",
       "  <tbody>\n",
       "    <tr>\n",
       "      <th>Actual τ</th>\n",
       "      <td>2870</td>\n",
       "      <td>4894</td>\n",
       "    </tr>\n",
       "    <tr>\n",
       "      <th>Actual μμμ</th>\n",
       "      <td>745</td>\n",
       "      <td>11757</td>\n",
       "    </tr>\n",
       "  </tbody>\n",
       "</table>\n",
       "</div>"
      ],
      "text/plain": [
       "            Predicted τ  Predicted μμμ\n",
       "Actual τ           2870           4894\n",
       "Actual μμμ          745          11757"
      ]
     },
     "execution_count": 22,
     "metadata": {},
     "output_type": "execute_result"
    }
   ],
   "source": [
    "# Creating a confusion matrix from the test predictions\n",
    "\n",
    "confusion_matrix_dataframe(y_test, \n",
    "                           knn2_preds,\n",
    "                           columns = [\"Predicted τ\", \"Predicted μμμ\"],\n",
    "                           index   = [\"Actual τ\", \"Actual μμμ\"])"
   ]
  },
  {
   "cell_type": "markdown",
   "metadata": {},
   "source": [
    "### Random Forest Classifier"
   ]
  },
  {
   "cell_type": "markdown",
   "metadata": {},
   "source": [
    "A random forest classifier is a tree-based classification method that incorporates two types of random selection: bootstrapping (random sampling of the data with replacement) and random selection of features."
   ]
  },
  {
   "cell_type": "markdown",
   "metadata": {},
   "source": [
    "#### Original Data"
   ]
  },
  {
   "cell_type": "code",
   "execution_count": 23,
   "metadata": {},
   "outputs": [],
   "source": [
    "\"\"\"\n",
    "# Instantiating the grid search's pipeline\n",
    "rfr_pipe  = Pipeline([(\"rfr\", RandomForestClassifier(random_state = 42,\n",
    "                                                     n_jobs       = 4))])\n",
    "\n",
    "# Setting up a hyperparameter dictionary\n",
    "params    = dict(rfr__n_estimators      = [600],\n",
    "                 rfr__max_depth         = [29],\n",
    "                 rfr__min_samples_split = [3],\n",
    "                 rfr__min_samples_leaf  = [3])\n",
    "\n",
    "# Setting up the gridsearch object\n",
    "rfr_gs    = GridSearchCV(rfr_pipe, \n",
    "                         param_grid = params,\n",
    "                         cv         = 5)\n",
    "                          \n",
    "# Fitting the gridsearch to our training data\n",
    "rfr_gs.fit(X_train, y_train);\n",
    "\n",
    "# Printing out our best parameters\n",
    "rfr_gs.best_params_\n",
    "\"\"\";"
   ]
  },
  {
   "cell_type": "code",
   "execution_count": 24,
   "metadata": {},
   "outputs": [],
   "source": [
    "# Instantiating the random forest classifier\n",
    "# Other parameters are at their defaults\n",
    "\n",
    "rfr = RandomForestClassifier(random_state      = 42,\n",
    "                             n_jobs            = 4,\n",
    "                             n_estimators      = 600,\n",
    "                             max_depth         = 29,\n",
    "                             min_samples_split = 3,\n",
    "                             min_samples_leaf  = 3)"
   ]
  },
  {
   "cell_type": "code",
   "execution_count": 25,
   "metadata": {},
   "outputs": [],
   "source": [
    "# Fitting the algorithm to our training data\n",
    "rfr.fit(X_train, y_train)\n",
    "\n",
    "# Making training predictions\n",
    "train_preds = rfr.predict(X_train)\n",
    "\n",
    "# Making test predictions\n",
    "rfr_preds   = rfr.predict(X_test)\n",
    "\n",
    "# Getting test  probabilities\n",
    "rfr_probas = rfr.predict_proba(X_test)"
   ]
  },
  {
   "cell_type": "code",
   "execution_count": 26,
   "metadata": {},
   "outputs": [
    {
     "data": {
      "text/html": [
       "<div>\n",
       "<style scoped>\n",
       "    .dataframe tbody tr th:only-of-type {\n",
       "        vertical-align: middle;\n",
       "    }\n",
       "\n",
       "    .dataframe tbody tr th {\n",
       "        vertical-align: top;\n",
       "    }\n",
       "\n",
       "    .dataframe thead th {\n",
       "        text-align: right;\n",
       "    }\n",
       "</style>\n",
       "<table border=\"1\" class=\"dataframe\">\n",
       "  <thead>\n",
       "    <tr style=\"text-align: right;\">\n",
       "      <th></th>\n",
       "      <th>Scores</th>\n",
       "    </tr>\n",
       "  </thead>\n",
       "  <tbody>\n",
       "    <tr>\n",
       "      <th>Sensitivity</th>\n",
       "      <td>0.992321</td>\n",
       "    </tr>\n",
       "    <tr>\n",
       "      <th>Specificity</th>\n",
       "      <td>0.960475</td>\n",
       "    </tr>\n",
       "    <tr>\n",
       "      <th>MCC</th>\n",
       "      <td>0.957960</td>\n",
       "    </tr>\n",
       "    <tr>\n",
       "      <th>AUROC</th>\n",
       "      <td>0.976398</td>\n",
       "    </tr>\n",
       "  </tbody>\n",
       "</table>\n",
       "</div>"
      ],
      "text/plain": [
       "               Scores\n",
       "Sensitivity  0.992321\n",
       "Specificity  0.960475\n",
       "MCC          0.957960\n",
       "AUROC        0.976398"
      ]
     },
     "execution_count": 26,
     "metadata": {},
     "output_type": "execute_result"
    }
   ],
   "source": [
    "# Evaluating prediction on the training data\n",
    "\n",
    "classification_summary(y_train, train_preds)"
   ]
  },
  {
   "cell_type": "code",
   "execution_count": 27,
   "metadata": {},
   "outputs": [
    {
     "data": {
      "text/html": [
       "<div>\n",
       "<style scoped>\n",
       "    .dataframe tbody tr th:only-of-type {\n",
       "        vertical-align: middle;\n",
       "    }\n",
       "\n",
       "    .dataframe tbody tr th {\n",
       "        vertical-align: top;\n",
       "    }\n",
       "\n",
       "    .dataframe thead th {\n",
       "        text-align: right;\n",
       "    }\n",
       "</style>\n",
       "<table border=\"1\" class=\"dataframe\">\n",
       "  <thead>\n",
       "    <tr style=\"text-align: right;\">\n",
       "      <th></th>\n",
       "      <th>Scores</th>\n",
       "    </tr>\n",
       "  </thead>\n",
       "  <tbody>\n",
       "    <tr>\n",
       "      <th>Sensitivity</th>\n",
       "      <td>0.901216</td>\n",
       "    </tr>\n",
       "    <tr>\n",
       "      <th>Specificity</th>\n",
       "      <td>0.831273</td>\n",
       "    </tr>\n",
       "    <tr>\n",
       "      <th>MCC</th>\n",
       "      <td>0.733854</td>\n",
       "    </tr>\n",
       "    <tr>\n",
       "      <th>AUROC</th>\n",
       "      <td>0.866244</td>\n",
       "    </tr>\n",
       "  </tbody>\n",
       "</table>\n",
       "</div>"
      ],
      "text/plain": [
       "               Scores\n",
       "Sensitivity  0.901216\n",
       "Specificity  0.831273\n",
       "MCC          0.733854\n",
       "AUROC        0.866244"
      ]
     },
     "execution_count": 27,
     "metadata": {},
     "output_type": "execute_result"
    }
   ],
   "source": [
    "# Evaluating prediction on the test data\n",
    "\n",
    "classification_summary(y_test, rfr_preds)"
   ]
  },
  {
   "cell_type": "code",
   "execution_count": 28,
   "metadata": {},
   "outputs": [
    {
     "data": {
      "text/html": [
       "<div>\n",
       "<style scoped>\n",
       "    .dataframe tbody tr th:only-of-type {\n",
       "        vertical-align: middle;\n",
       "    }\n",
       "\n",
       "    .dataframe tbody tr th {\n",
       "        vertical-align: top;\n",
       "    }\n",
       "\n",
       "    .dataframe thead th {\n",
       "        text-align: right;\n",
       "    }\n",
       "</style>\n",
       "<table border=\"1\" class=\"dataframe\">\n",
       "  <thead>\n",
       "    <tr style=\"text-align: right;\">\n",
       "      <th></th>\n",
       "      <th>Predicted τ</th>\n",
       "      <th>Predicted μμμ</th>\n",
       "    </tr>\n",
       "  </thead>\n",
       "  <tbody>\n",
       "    <tr>\n",
       "      <th>Actual τ</th>\n",
       "      <td>6454</td>\n",
       "      <td>1310</td>\n",
       "    </tr>\n",
       "    <tr>\n",
       "      <th>Actual μμμ</th>\n",
       "      <td>1235</td>\n",
       "      <td>11267</td>\n",
       "    </tr>\n",
       "  </tbody>\n",
       "</table>\n",
       "</div>"
      ],
      "text/plain": [
       "            Predicted τ  Predicted μμμ\n",
       "Actual τ           6454           1310\n",
       "Actual μμμ         1235          11267"
      ]
     },
     "execution_count": 28,
     "metadata": {},
     "output_type": "execute_result"
    }
   ],
   "source": [
    "confusion_matrix_dataframe(y_test, \n",
    "                           rfr_preds,\n",
    "                           columns = [\"Predicted τ\", \"Predicted μμμ\"],\n",
    "                           index   = [\"Actual τ\", \"Actual μμμ\"])"
   ]
  },
  {
   "cell_type": "code",
   "execution_count": 29,
   "metadata": {},
   "outputs": [
    {
     "data": {
      "text/html": [
       "<div>\n",
       "<style scoped>\n",
       "    .dataframe tbody tr th:only-of-type {\n",
       "        vertical-align: middle;\n",
       "    }\n",
       "\n",
       "    .dataframe tbody tr th {\n",
       "        vertical-align: top;\n",
       "    }\n",
       "\n",
       "    .dataframe thead th {\n",
       "        text-align: right;\n",
       "    }\n",
       "</style>\n",
       "<table border=\"1\" class=\"dataframe\">\n",
       "  <thead>\n",
       "    <tr style=\"text-align: right;\">\n",
       "      <th></th>\n",
       "      <th>RF - Original Data</th>\n",
       "    </tr>\n",
       "  </thead>\n",
       "  <tbody>\n",
       "    <tr>\n",
       "      <th>5</th>\n",
       "      <td>0.135573</td>\n",
       "    </tr>\n",
       "    <tr>\n",
       "      <th>4</th>\n",
       "      <td>0.114321</td>\n",
       "    </tr>\n",
       "    <tr>\n",
       "      <th>1</th>\n",
       "      <td>0.075778</td>\n",
       "    </tr>\n",
       "    <tr>\n",
       "      <th>45</th>\n",
       "      <td>0.054026</td>\n",
       "    </tr>\n",
       "    <tr>\n",
       "      <th>6</th>\n",
       "      <td>0.041954</td>\n",
       "    </tr>\n",
       "  </tbody>\n",
       "</table>\n",
       "</div>"
      ],
      "text/plain": [
       "    RF - Original Data\n",
       "5             0.135573\n",
       "4             0.114321\n",
       "1             0.075778\n",
       "45            0.054026\n",
       "6             0.041954"
      ]
     },
     "execution_count": 29,
     "metadata": {},
     "output_type": "execute_result"
    }
   ],
   "source": [
    "rfr_original_data = pd.DataFrame(rfr.feature_importances_,\n",
    "                                 columns = [\"RF - Original Data\"])\n",
    "\n",
    "rfr_original_data.sort_values(by = \"RF - Original Data\", ascending = False).head()"
   ]
  },
  {
   "cell_type": "markdown",
   "metadata": {},
   "source": [
    "### Principal Component Analysis"
   ]
  },
  {
   "cell_type": "code",
   "execution_count": 30,
   "metadata": {},
   "outputs": [],
   "source": [
    "\"\"\"\n",
    "# Instantiating the grid search's pipeline\n",
    "rfr2_pipe  = Pipeline([(\"rfr2\", RandomForestClassifier(random_state = 42,\n",
    "                                                     n_jobs       = 4))])\n",
    "\n",
    "# Setting up a hyperparameter dictionary\n",
    "params    = dict(rfr2__n_estimators      = [193],\n",
    "                 rfr2__max_depth         = [22],\n",
    "                 rfr2__min_samples_split = [3],\n",
    "                 rfr2__min_samples_leaf  = [3])\n",
    "\n",
    "# Setting up the gridsearch object\n",
    "rfr2_gs    = GridSearchCV(rfr2_pipe, \n",
    "                         param_grid = params,\n",
    "                         cv         = 5)\n",
    "                          \n",
    "# Fitting the gridsearch to our training data\n",
    "rfr2_gs.fit(X_train_pca, y_train);\n",
    "\n",
    "# Printing out our best parameters\n",
    "rfr2_gs.best_params_\n",
    "\"\"\";"
   ]
  },
  {
   "cell_type": "code",
   "execution_count": 31,
   "metadata": {},
   "outputs": [],
   "source": [
    "# Instantiating the random forest classifier\n",
    "# Other parameters are at their defaults\n",
    "\n",
    "rfr2 = RandomForestClassifier(random_state      = 42,\n",
    "                              n_jobs            = 4,\n",
    "                              n_estimators      = 193,\n",
    "                              max_depth         = 22,\n",
    "                              min_samples_split = 3,\n",
    "                              min_samples_leaf  = 3)"
   ]
  },
  {
   "cell_type": "code",
   "execution_count": 32,
   "metadata": {},
   "outputs": [],
   "source": [
    "# Fitting the algorithm to our training data\n",
    "rfr2.fit(X_train_pca, y_train)\n",
    "\n",
    "# Making training predictions\n",
    "train_preds = rfr2.predict(X_train_pca)\n",
    "\n",
    "# Making test predictions\n",
    "rfr2_preds   = rfr2.predict(X_test_pca)"
   ]
  },
  {
   "cell_type": "code",
   "execution_count": 33,
   "metadata": {},
   "outputs": [
    {
     "data": {
      "text/html": [
       "<div>\n",
       "<style scoped>\n",
       "    .dataframe tbody tr th:only-of-type {\n",
       "        vertical-align: middle;\n",
       "    }\n",
       "\n",
       "    .dataframe tbody tr th {\n",
       "        vertical-align: top;\n",
       "    }\n",
       "\n",
       "    .dataframe thead th {\n",
       "        text-align: right;\n",
       "    }\n",
       "</style>\n",
       "<table border=\"1\" class=\"dataframe\">\n",
       "  <thead>\n",
       "    <tr style=\"text-align: right;\">\n",
       "      <th></th>\n",
       "      <th>Scores</th>\n",
       "    </tr>\n",
       "  </thead>\n",
       "  <tbody>\n",
       "    <tr>\n",
       "      <th>Sensitivity</th>\n",
       "      <td>0.996641</td>\n",
       "    </tr>\n",
       "    <tr>\n",
       "      <th>Specificity</th>\n",
       "      <td>0.954844</td>\n",
       "    </tr>\n",
       "    <tr>\n",
       "      <th>MCC</th>\n",
       "      <td>0.959211</td>\n",
       "    </tr>\n",
       "    <tr>\n",
       "      <th>AUROC</th>\n",
       "      <td>0.975742</td>\n",
       "    </tr>\n",
       "  </tbody>\n",
       "</table>\n",
       "</div>"
      ],
      "text/plain": [
       "               Scores\n",
       "Sensitivity  0.996641\n",
       "Specificity  0.954844\n",
       "MCC          0.959211\n",
       "AUROC        0.975742"
      ]
     },
     "execution_count": 33,
     "metadata": {},
     "output_type": "execute_result"
    }
   ],
   "source": [
    "# Evaluating prediction on the training data\n",
    "\n",
    "classification_summary(y_train, train_preds)"
   ]
  },
  {
   "cell_type": "code",
   "execution_count": 34,
   "metadata": {},
   "outputs": [
    {
     "data": {
      "text/html": [
       "<div>\n",
       "<style scoped>\n",
       "    .dataframe tbody tr th:only-of-type {\n",
       "        vertical-align: middle;\n",
       "    }\n",
       "\n",
       "    .dataframe tbody tr th {\n",
       "        vertical-align: top;\n",
       "    }\n",
       "\n",
       "    .dataframe thead th {\n",
       "        text-align: right;\n",
       "    }\n",
       "</style>\n",
       "<table border=\"1\" class=\"dataframe\">\n",
       "  <thead>\n",
       "    <tr style=\"text-align: right;\">\n",
       "      <th></th>\n",
       "      <th>Scores</th>\n",
       "    </tr>\n",
       "  </thead>\n",
       "  <tbody>\n",
       "    <tr>\n",
       "      <th>Sensitivity</th>\n",
       "      <td>0.857943</td>\n",
       "    </tr>\n",
       "    <tr>\n",
       "      <th>Specificity</th>\n",
       "      <td>0.745750</td>\n",
       "    </tr>\n",
       "    <tr>\n",
       "      <th>MCC</th>\n",
       "      <td>0.606755</td>\n",
       "    </tr>\n",
       "    <tr>\n",
       "      <th>AUROC</th>\n",
       "      <td>0.801846</td>\n",
       "    </tr>\n",
       "  </tbody>\n",
       "</table>\n",
       "</div>"
      ],
      "text/plain": [
       "               Scores\n",
       "Sensitivity  0.857943\n",
       "Specificity  0.745750\n",
       "MCC          0.606755\n",
       "AUROC        0.801846"
      ]
     },
     "execution_count": 34,
     "metadata": {},
     "output_type": "execute_result"
    }
   ],
   "source": [
    "# Evaluating prediction on the test data\n",
    "\n",
    "classification_summary(y_test, rfr2_preds)"
   ]
  },
  {
   "cell_type": "code",
   "execution_count": 35,
   "metadata": {},
   "outputs": [
    {
     "data": {
      "text/html": [
       "<div>\n",
       "<style scoped>\n",
       "    .dataframe tbody tr th:only-of-type {\n",
       "        vertical-align: middle;\n",
       "    }\n",
       "\n",
       "    .dataframe tbody tr th {\n",
       "        vertical-align: top;\n",
       "    }\n",
       "\n",
       "    .dataframe thead th {\n",
       "        text-align: right;\n",
       "    }\n",
       "</style>\n",
       "<table border=\"1\" class=\"dataframe\">\n",
       "  <thead>\n",
       "    <tr style=\"text-align: right;\">\n",
       "      <th></th>\n",
       "      <th>Predicted τ</th>\n",
       "      <th>Predicted μμμ</th>\n",
       "    </tr>\n",
       "  </thead>\n",
       "  <tbody>\n",
       "    <tr>\n",
       "      <th>Actual τ</th>\n",
       "      <td>5790</td>\n",
       "      <td>1974</td>\n",
       "    </tr>\n",
       "    <tr>\n",
       "      <th>Actual μμμ</th>\n",
       "      <td>1776</td>\n",
       "      <td>10726</td>\n",
       "    </tr>\n",
       "  </tbody>\n",
       "</table>\n",
       "</div>"
      ],
      "text/plain": [
       "            Predicted τ  Predicted μμμ\n",
       "Actual τ           5790           1974\n",
       "Actual μμμ         1776          10726"
      ]
     },
     "execution_count": 35,
     "metadata": {},
     "output_type": "execute_result"
    }
   ],
   "source": [
    "confusion_matrix_dataframe(y_test, \n",
    "                           rfr2_preds,\n",
    "                           columns = [\"Predicted τ\", \"Predicted μμμ\"],\n",
    "                           index   = [\"Actual τ\", \"Actual μμμ\"])"
   ]
  },
  {
   "cell_type": "code",
   "execution_count": 36,
   "metadata": {},
   "outputs": [
    {
     "data": {
      "text/html": [
       "<div>\n",
       "<style scoped>\n",
       "    .dataframe tbody tr th:only-of-type {\n",
       "        vertical-align: middle;\n",
       "    }\n",
       "\n",
       "    .dataframe tbody tr th {\n",
       "        vertical-align: top;\n",
       "    }\n",
       "\n",
       "    .dataframe thead th {\n",
       "        text-align: right;\n",
       "    }\n",
       "</style>\n",
       "<table border=\"1\" class=\"dataframe\">\n",
       "  <thead>\n",
       "    <tr style=\"text-align: right;\">\n",
       "      <th></th>\n",
       "      <th>RF - PCA</th>\n",
       "    </tr>\n",
       "  </thead>\n",
       "  <tbody>\n",
       "    <tr>\n",
       "      <th>2</th>\n",
       "      <td>0.124142</td>\n",
       "    </tr>\n",
       "    <tr>\n",
       "      <th>3</th>\n",
       "      <td>0.123003</td>\n",
       "    </tr>\n",
       "    <tr>\n",
       "      <th>0</th>\n",
       "      <td>0.093046</td>\n",
       "    </tr>\n",
       "    <tr>\n",
       "      <th>9</th>\n",
       "      <td>0.059729</td>\n",
       "    </tr>\n",
       "    <tr>\n",
       "      <th>5</th>\n",
       "      <td>0.057637</td>\n",
       "    </tr>\n",
       "  </tbody>\n",
       "</table>\n",
       "</div>"
      ],
      "text/plain": [
       "   RF - PCA\n",
       "2  0.124142\n",
       "3  0.123003\n",
       "0  0.093046\n",
       "9  0.059729\n",
       "5  0.057637"
      ]
     },
     "execution_count": 36,
     "metadata": {},
     "output_type": "execute_result"
    }
   ],
   "source": [
    "rfr_pca_data = pd.DataFrame(rfr2.feature_importances_,\n",
    "                                 columns = [\"RF - PCA\"])\n",
    "\n",
    "rfr_pca_data.sort_values(by = \"RF - PCA\", ascending = False).head()"
   ]
  },
  {
   "cell_type": "markdown",
   "metadata": {},
   "source": [
    "### SGD Logistic Regressor"
   ]
  },
  {
   "cell_type": "markdown",
   "metadata": {},
   "source": [
    "The version of the logistic regression incorporates the use of stochastic gradient descent (SGD). Gradient descent is a way of minimizing a model's loss function (in this case cross-entropy) by taking \"steps\" to find the lowest (global) minimum. SGD is one of three main ways this is performed. As stochastic suggests, SGD logistic regression suggests a few points randomly from our data for each iteration of the mode and after each iteration the data is shuffled and resampled."
   ]
  },
  {
   "cell_type": "markdown",
   "metadata": {},
   "source": [
    "#### Original Data"
   ]
  },
  {
   "cell_type": "code",
   "execution_count": 37,
   "metadata": {},
   "outputs": [],
   "source": [
    "\"\"\"\n",
    "# Instantiating the grid search's pipeline\n",
    "sgd_pipe = Pipeline([(\"sgd\", SGDClassifier(random_state = 42,\n",
    "                                           n_jobs       = 4))])\n",
    "\n",
    "# Setting up a hyperparameter dictionary\n",
    "# These are the optimal values\n",
    "params    = dict(sgd__loss     = [\"perceptron\"],\n",
    "                 sgd__penalty  = [None],\n",
    "                 sgd__alpha    = [0.1],\n",
    "                 sgd__max_iter = [1100],\n",
    "                 sgd__tol      = [0.01])\n",
    "\n",
    "# Setting up the gridsearch object\n",
    "sgd_gs   = GridSearchCV(sgd_pipe, \n",
    "                        param_grid = params,\n",
    "                        cv         = 5)\n",
    "\n",
    "# Fitting the gridsearch to our training data\n",
    "sgd_gs.fit(X_train, y_train);\n",
    "\n",
    "# Printing out our best parameters\n",
    "sgd_gs.best_params_\n",
    "\"\"\";"
   ]
  },
  {
   "cell_type": "code",
   "execution_count": 38,
   "metadata": {},
   "outputs": [],
   "source": [
    "# Instantiating the sgd logistic regression classifier\n",
    "# Other parameters are at their defaults\n",
    "# Probabilities will not be available for this model\n",
    "\n",
    "sgd = SGDClassifier(random_state   = 42,\n",
    "                    n_jobs         = 4,\n",
    "                    loss           = \"perceptron\",\n",
    "                    penalty        = None,\n",
    "                    max_iter       = 1100,\n",
    "                    tol            = 0.01)"
   ]
  },
  {
   "cell_type": "code",
   "execution_count": 39,
   "metadata": {},
   "outputs": [],
   "source": [
    "# Fitting the algorithm to our training data\n",
    "sgd.fit(X_train, y_train)\n",
    "\n",
    "# Making training predictions\n",
    "train_preds = sgd.predict(X_train)\n",
    "\n",
    "# Making test predictions\n",
    "sgd_preds   = sgd.predict(X_test)"
   ]
  },
  {
   "cell_type": "code",
   "execution_count": 40,
   "metadata": {},
   "outputs": [
    {
     "data": {
      "text/html": [
       "<div>\n",
       "<style scoped>\n",
       "    .dataframe tbody tr th:only-of-type {\n",
       "        vertical-align: middle;\n",
       "    }\n",
       "\n",
       "    .dataframe tbody tr th {\n",
       "        vertical-align: top;\n",
       "    }\n",
       "\n",
       "    .dataframe thead th {\n",
       "        text-align: right;\n",
       "    }\n",
       "</style>\n",
       "<table border=\"1\" class=\"dataframe\">\n",
       "  <thead>\n",
       "    <tr style=\"text-align: right;\">\n",
       "      <th></th>\n",
       "      <th>Scores</th>\n",
       "    </tr>\n",
       "  </thead>\n",
       "  <tbody>\n",
       "    <tr>\n",
       "      <th>Sensitivity</th>\n",
       "      <td>0.570513</td>\n",
       "    </tr>\n",
       "    <tr>\n",
       "      <th>Specificity</th>\n",
       "      <td>0.791002</td>\n",
       "    </tr>\n",
       "    <tr>\n",
       "      <th>MCC</th>\n",
       "      <td>0.354787</td>\n",
       "    </tr>\n",
       "    <tr>\n",
       "      <th>AUROC</th>\n",
       "      <td>0.680757</td>\n",
       "    </tr>\n",
       "  </tbody>\n",
       "</table>\n",
       "</div>"
      ],
      "text/plain": [
       "               Scores\n",
       "Sensitivity  0.570513\n",
       "Specificity  0.791002\n",
       "MCC          0.354787\n",
       "AUROC        0.680757"
      ]
     },
     "execution_count": 40,
     "metadata": {},
     "output_type": "execute_result"
    }
   ],
   "source": [
    "# Evaluating prediction on the training data\n",
    "\n",
    "classification_summary(y_train, train_preds)"
   ]
  },
  {
   "cell_type": "code",
   "execution_count": 41,
   "metadata": {},
   "outputs": [
    {
     "data": {
      "text/html": [
       "<div>\n",
       "<style scoped>\n",
       "    .dataframe tbody tr th:only-of-type {\n",
       "        vertical-align: middle;\n",
       "    }\n",
       "\n",
       "    .dataframe tbody tr th {\n",
       "        vertical-align: top;\n",
       "    }\n",
       "\n",
       "    .dataframe thead th {\n",
       "        text-align: right;\n",
       "    }\n",
       "</style>\n",
       "<table border=\"1\" class=\"dataframe\">\n",
       "  <thead>\n",
       "    <tr style=\"text-align: right;\">\n",
       "      <th></th>\n",
       "      <th>Scores</th>\n",
       "    </tr>\n",
       "  </thead>\n",
       "  <tbody>\n",
       "    <tr>\n",
       "      <th>Sensitivity</th>\n",
       "      <td>0.565829</td>\n",
       "    </tr>\n",
       "    <tr>\n",
       "      <th>Specificity</th>\n",
       "      <td>0.778980</td>\n",
       "    </tr>\n",
       "    <tr>\n",
       "      <th>MCC</th>\n",
       "      <td>0.338238</td>\n",
       "    </tr>\n",
       "    <tr>\n",
       "      <th>AUROC</th>\n",
       "      <td>0.672405</td>\n",
       "    </tr>\n",
       "  </tbody>\n",
       "</table>\n",
       "</div>"
      ],
      "text/plain": [
       "               Scores\n",
       "Sensitivity  0.565829\n",
       "Specificity  0.778980\n",
       "MCC          0.338238\n",
       "AUROC        0.672405"
      ]
     },
     "execution_count": 41,
     "metadata": {},
     "output_type": "execute_result"
    }
   ],
   "source": [
    "# Evaluating prediction on the test data\n",
    "\n",
    "classification_summary(y_test, sgd_preds)"
   ]
  },
  {
   "cell_type": "code",
   "execution_count": 42,
   "metadata": {},
   "outputs": [
    {
     "data": {
      "text/html": [
       "<div>\n",
       "<style scoped>\n",
       "    .dataframe tbody tr th:only-of-type {\n",
       "        vertical-align: middle;\n",
       "    }\n",
       "\n",
       "    .dataframe tbody tr th {\n",
       "        vertical-align: top;\n",
       "    }\n",
       "\n",
       "    .dataframe thead th {\n",
       "        text-align: right;\n",
       "    }\n",
       "</style>\n",
       "<table border=\"1\" class=\"dataframe\">\n",
       "  <thead>\n",
       "    <tr style=\"text-align: right;\">\n",
       "      <th></th>\n",
       "      <th>Predicted τ</th>\n",
       "      <th>Predicted μμμ</th>\n",
       "    </tr>\n",
       "  </thead>\n",
       "  <tbody>\n",
       "    <tr>\n",
       "      <th>Actual τ</th>\n",
       "      <td>6048</td>\n",
       "      <td>1716</td>\n",
       "    </tr>\n",
       "    <tr>\n",
       "      <th>Actual μμμ</th>\n",
       "      <td>5428</td>\n",
       "      <td>7074</td>\n",
       "    </tr>\n",
       "  </tbody>\n",
       "</table>\n",
       "</div>"
      ],
      "text/plain": [
       "            Predicted τ  Predicted μμμ\n",
       "Actual τ           6048           1716\n",
       "Actual μμμ         5428           7074"
      ]
     },
     "execution_count": 42,
     "metadata": {},
     "output_type": "execute_result"
    }
   ],
   "source": [
    "confusion_matrix_dataframe(y_test, \n",
    "                           sgd_preds,\n",
    "                           columns = [\"Predicted τ\", \"Predicted μμμ\"],\n",
    "                           index   = [\"Actual τ\", \"Actual μμμ\"])"
   ]
  },
  {
   "cell_type": "code",
   "execution_count": 43,
   "metadata": {},
   "outputs": [
    {
     "data": {
      "text/html": [
       "<div>\n",
       "<style scoped>\n",
       "    .dataframe tbody tr th:only-of-type {\n",
       "        vertical-align: middle;\n",
       "    }\n",
       "\n",
       "    .dataframe tbody tr th {\n",
       "        vertical-align: top;\n",
       "    }\n",
       "\n",
       "    .dataframe thead th {\n",
       "        text-align: right;\n",
       "    }\n",
       "</style>\n",
       "<table border=\"1\" class=\"dataframe\">\n",
       "  <thead>\n",
       "    <tr style=\"text-align: right;\">\n",
       "      <th></th>\n",
       "      <th>Coef.</th>\n",
       "    </tr>\n",
       "  </thead>\n",
       "  <tbody>\n",
       "    <tr>\n",
       "      <th>29</th>\n",
       "      <td>inf</td>\n",
       "    </tr>\n",
       "    <tr>\n",
       "      <th>35</th>\n",
       "      <td>inf</td>\n",
       "    </tr>\n",
       "    <tr>\n",
       "      <th>30</th>\n",
       "      <td>inf</td>\n",
       "    </tr>\n",
       "    <tr>\n",
       "      <th>21</th>\n",
       "      <td>inf</td>\n",
       "    </tr>\n",
       "    <tr>\n",
       "      <th>22</th>\n",
       "      <td>inf</td>\n",
       "    </tr>\n",
       "  </tbody>\n",
       "</table>\n",
       "</div>"
      ],
      "text/plain": [
       "    Coef.\n",
       "29    inf\n",
       "35    inf\n",
       "30    inf\n",
       "21    inf\n",
       "22    inf"
      ]
     },
     "execution_count": 43,
     "metadata": {},
     "output_type": "execute_result"
    }
   ],
   "source": [
    "sgd_coefs = pd.DataFrame([np.exp(i) for i in sgd.coef_], index = [\"Coef.\"]).T\n",
    "sgd_coefs.sort_values(by = \"Coef.\", ascending = False).head()"
   ]
  },
  {
   "cell_type": "markdown",
   "metadata": {},
   "source": [
    "#### Principal Component Analysis"
   ]
  },
  {
   "cell_type": "code",
   "execution_count": 44,
   "metadata": {},
   "outputs": [],
   "source": [
    "\"\"\"\n",
    "# Instantiating the grid search's pipeline\n",
    "sgd2_pipe = Pipeline([(\"sgd\", SGDClassifier(random_state = 42,\n",
    "                                           n_jobs       = 4))])\n",
    "\n",
    "# Setting up a hyperparameter dictionary\n",
    "# These are the optimal values\n",
    "params    = dict(sgd2__loss           = [\"log\"],\n",
    "                 sgd2__early_stopping = [False],\n",
    "                 sgd2__penalty        = [\"l2\"],\n",
    "                 sgd2__alpha          = [0.001],\n",
    "                 sgd2__max_iter       = [5],\n",
    "                 sgd2__tol            = [0.01])\n",
    "\n",
    "# Setting up the gridsearch object\n",
    "sgd2_gs   = GridSearchCV(sgd_pipe2, \n",
    "                         param_grid = params,\n",
    "                         cv         = 5)\n",
    "\n",
    "# Fitting the gridsearch to our training data\n",
    "sgd2_gs.fit(X_train_pca, y_train);\n",
    "\n",
    "# Printing out our best parameters\n",
    "sgd2_gs.best_params_\n",
    "\"\"\";"
   ]
  },
  {
   "cell_type": "code",
   "execution_count": 45,
   "metadata": {},
   "outputs": [],
   "source": [
    "# Instantiating the SGD classifier\n",
    "\n",
    "sgd2 = SGDClassifier(random_state   = 42,\n",
    "                     n_jobs         = 4,\n",
    "                     loss           = \"log\",\n",
    "                     early_stopping = False,\n",
    "                     penalty        = \"l2\",\n",
    "                     alpha          = 0.001,\n",
    "                     max_iter       = 5,\n",
    "                     tol            = 0.01)"
   ]
  },
  {
   "cell_type": "code",
   "execution_count": 46,
   "metadata": {},
   "outputs": [],
   "source": [
    "# Fitting the algorithm to our training data\n",
    "sgd2.fit(X_train_pca, y_train)\n",
    "\n",
    "# Making training predictions\n",
    "train_preds = sgd2.predict(X_train_pca)\n",
    "\n",
    "# Making test predictions\n",
    "sgd2_preds   = sgd2.predict(X_test_pca)"
   ]
  },
  {
   "cell_type": "code",
   "execution_count": 47,
   "metadata": {},
   "outputs": [
    {
     "data": {
      "text/html": [
       "<div>\n",
       "<style scoped>\n",
       "    .dataframe tbody tr th:only-of-type {\n",
       "        vertical-align: middle;\n",
       "    }\n",
       "\n",
       "    .dataframe tbody tr th {\n",
       "        vertical-align: top;\n",
       "    }\n",
       "\n",
       "    .dataframe thead th {\n",
       "        text-align: right;\n",
       "    }\n",
       "</style>\n",
       "<table border=\"1\" class=\"dataframe\">\n",
       "  <thead>\n",
       "    <tr style=\"text-align: right;\">\n",
       "      <th></th>\n",
       "      <th>Scores</th>\n",
       "    </tr>\n",
       "  </thead>\n",
       "  <tbody>\n",
       "    <tr>\n",
       "      <th>Sensitivity</th>\n",
       "      <td>0.899767</td>\n",
       "    </tr>\n",
       "    <tr>\n",
       "      <th>Specificity</th>\n",
       "      <td>0.788904</td>\n",
       "    </tr>\n",
       "    <tr>\n",
       "      <th>MCC</th>\n",
       "      <td>0.695792</td>\n",
       "    </tr>\n",
       "    <tr>\n",
       "      <th>AUROC</th>\n",
       "      <td>0.844336</td>\n",
       "    </tr>\n",
       "  </tbody>\n",
       "</table>\n",
       "</div>"
      ],
      "text/plain": [
       "               Scores\n",
       "Sensitivity  0.899767\n",
       "Specificity  0.788904\n",
       "MCC          0.695792\n",
       "AUROC        0.844336"
      ]
     },
     "execution_count": 47,
     "metadata": {},
     "output_type": "execute_result"
    }
   ],
   "source": [
    "# Evaluating prediction on the training data\n",
    "\n",
    "classification_summary(y_train, train_preds)"
   ]
  },
  {
   "cell_type": "code",
   "execution_count": 48,
   "metadata": {},
   "outputs": [
    {
     "data": {
      "text/html": [
       "<div>\n",
       "<style scoped>\n",
       "    .dataframe tbody tr th:only-of-type {\n",
       "        vertical-align: middle;\n",
       "    }\n",
       "\n",
       "    .dataframe tbody tr th {\n",
       "        vertical-align: top;\n",
       "    }\n",
       "\n",
       "    .dataframe thead th {\n",
       "        text-align: right;\n",
       "    }\n",
       "</style>\n",
       "<table border=\"1\" class=\"dataframe\">\n",
       "  <thead>\n",
       "    <tr style=\"text-align: right;\">\n",
       "      <th></th>\n",
       "      <th>Scores</th>\n",
       "    </tr>\n",
       "  </thead>\n",
       "  <tbody>\n",
       "    <tr>\n",
       "      <th>Sensitivity</th>\n",
       "      <td>0.846185</td>\n",
       "    </tr>\n",
       "    <tr>\n",
       "      <th>Specificity</th>\n",
       "      <td>0.729650</td>\n",
       "    </tr>\n",
       "    <tr>\n",
       "      <th>MCC</th>\n",
       "      <td>0.578417</td>\n",
       "    </tr>\n",
       "    <tr>\n",
       "      <th>AUROC</th>\n",
       "      <td>0.787917</td>\n",
       "    </tr>\n",
       "  </tbody>\n",
       "</table>\n",
       "</div>"
      ],
      "text/plain": [
       "               Scores\n",
       "Sensitivity  0.846185\n",
       "Specificity  0.729650\n",
       "MCC          0.578417\n",
       "AUROC        0.787917"
      ]
     },
     "execution_count": 48,
     "metadata": {},
     "output_type": "execute_result"
    }
   ],
   "source": [
    "# Evaluating prediction on the test data\n",
    "\n",
    "classification_summary(y_test, sgd2_preds)"
   ]
  },
  {
   "cell_type": "code",
   "execution_count": 49,
   "metadata": {},
   "outputs": [
    {
     "data": {
      "text/html": [
       "<div>\n",
       "<style scoped>\n",
       "    .dataframe tbody tr th:only-of-type {\n",
       "        vertical-align: middle;\n",
       "    }\n",
       "\n",
       "    .dataframe tbody tr th {\n",
       "        vertical-align: top;\n",
       "    }\n",
       "\n",
       "    .dataframe thead th {\n",
       "        text-align: right;\n",
       "    }\n",
       "</style>\n",
       "<table border=\"1\" class=\"dataframe\">\n",
       "  <thead>\n",
       "    <tr style=\"text-align: right;\">\n",
       "      <th></th>\n",
       "      <th>Predicted τ</th>\n",
       "      <th>Predicted μμμ</th>\n",
       "    </tr>\n",
       "  </thead>\n",
       "  <tbody>\n",
       "    <tr>\n",
       "      <th>Actual τ</th>\n",
       "      <td>5665</td>\n",
       "      <td>2099</td>\n",
       "    </tr>\n",
       "    <tr>\n",
       "      <th>Actual μμμ</th>\n",
       "      <td>1923</td>\n",
       "      <td>10579</td>\n",
       "    </tr>\n",
       "  </tbody>\n",
       "</table>\n",
       "</div>"
      ],
      "text/plain": [
       "            Predicted τ  Predicted μμμ\n",
       "Actual τ           5665           2099\n",
       "Actual μμμ         1923          10579"
      ]
     },
     "execution_count": 49,
     "metadata": {},
     "output_type": "execute_result"
    }
   ],
   "source": [
    "confusion_matrix_dataframe(y_test, \n",
    "                           sgd2_preds,\n",
    "                           columns = [\"Predicted τ\", \"Predicted μμμ\"],\n",
    "                           index   = [\"Actual τ\", \"Actual μμμ\"])"
   ]
  },
  {
   "cell_type": "code",
   "execution_count": 50,
   "metadata": {},
   "outputs": [
    {
     "data": {
      "text/html": [
       "<div>\n",
       "<style scoped>\n",
       "    .dataframe tbody tr th:only-of-type {\n",
       "        vertical-align: middle;\n",
       "    }\n",
       "\n",
       "    .dataframe tbody tr th {\n",
       "        vertical-align: top;\n",
       "    }\n",
       "\n",
       "    .dataframe thead th {\n",
       "        text-align: right;\n",
       "    }\n",
       "</style>\n",
       "<table border=\"1\" class=\"dataframe\">\n",
       "  <thead>\n",
       "    <tr style=\"text-align: right;\">\n",
       "      <th></th>\n",
       "      <th>Coef.</th>\n",
       "    </tr>\n",
       "  </thead>\n",
       "  <tbody>\n",
       "    <tr>\n",
       "      <th>9</th>\n",
       "      <td>1.950789</td>\n",
       "    </tr>\n",
       "    <tr>\n",
       "      <th>15</th>\n",
       "      <td>1.565792</td>\n",
       "    </tr>\n",
       "    <tr>\n",
       "      <th>11</th>\n",
       "      <td>1.329708</td>\n",
       "    </tr>\n",
       "    <tr>\n",
       "      <th>12</th>\n",
       "      <td>1.308730</td>\n",
       "    </tr>\n",
       "    <tr>\n",
       "      <th>13</th>\n",
       "      <td>1.234054</td>\n",
       "    </tr>\n",
       "  </tbody>\n",
       "</table>\n",
       "</div>"
      ],
      "text/plain": [
       "       Coef.\n",
       "9   1.950789\n",
       "15  1.565792\n",
       "11  1.329708\n",
       "12  1.308730\n",
       "13  1.234054"
      ]
     },
     "execution_count": 50,
     "metadata": {},
     "output_type": "execute_result"
    }
   ],
   "source": [
    "sgd2_coefs = pd.DataFrame([np.exp(i) for i in sgd2.coef_], index = [\"Coef.\"]).T\n",
    "sgd2_coefs.sort_values(by = \"Coef.\", ascending = False).head()"
   ]
  },
  {
   "cell_type": "markdown",
   "metadata": {},
   "source": [
    "### XGBoost Classifier"
   ]
  },
  {
   "cell_type": "markdown",
   "metadata": {},
   "source": [
    "#### Original Data"
   ]
  },
  {
   "cell_type": "code",
   "execution_count": 51,
   "metadata": {},
   "outputs": [],
   "source": [
    "\"\"\"\n",
    "#Instantiating the grid search's pipeline\n",
    "xgb_pipe = Pipeline([(\"xgb\", XGBClassifier(random_state = 42,\n",
    "                                           n_jobs       = 4,\n",
    "                                           verbosity    = 0))])\n",
    "\n",
    "# Setting up a hyperparameter dictionary\n",
    "# These are the optimal values\n",
    "params    = dict(xgb__max_depth     = [9],\n",
    "                 xgb__n_estimators  = [325],\n",
    "                 xgb__booster       = [\"gbtree\"],\n",
    "                 xgb__learning_rate = [0.1],\n",
    "                 xgb__gamma         = [0])\n",
    "\n",
    "# Setting up the gridsearch object\n",
    "xgb_gs   = GridSearchCV(xgb_pipe, \n",
    "                        param_grid = params,\n",
    "                        cv         = 5)\n",
    "\n",
    "# Fitting the gridsearch to our training data\n",
    "xgb_gs.fit(X_train, y_train);\n",
    "\n",
    "# Printing out our best parameters\n",
    "xgb_gs.best_params_\n",
    "\"\"\";"
   ]
  },
  {
   "cell_type": "code",
   "execution_count": 52,
   "metadata": {},
   "outputs": [],
   "source": [
    "# Instantiating the XGBclasssifier\n",
    "# These are optimal values, others are defaults\n",
    "\n",
    "xgb = XGBClassifier(random_state  = 42,\n",
    "                    n_jobs        = 4,\n",
    "                    max_depth     = 9,\n",
    "                    n_estimators  = 325,\n",
    "                    booster       = \"gbtree\",\n",
    "                    learning_rate = 0.1)"
   ]
  },
  {
   "cell_type": "code",
   "execution_count": 53,
   "metadata": {},
   "outputs": [],
   "source": [
    "# Fitting the algorithm to our training data\n",
    "xgb.fit(X_train, y_train)\n",
    "\n",
    "# Making training predictions\n",
    "train_preds = xgb.predict(X_train)\n",
    "\n",
    "# Making test predictions\n",
    "xgb_preds   = xgb.predict(X_test)\n",
    "\n",
    "# Getting test  probabilities\n",
    "xgb_probas = xgb.predict_proba(X_test)"
   ]
  },
  {
   "cell_type": "code",
   "execution_count": 54,
   "metadata": {},
   "outputs": [
    {
     "data": {
      "text/html": [
       "<div>\n",
       "<style scoped>\n",
       "    .dataframe tbody tr th:only-of-type {\n",
       "        vertical-align: middle;\n",
       "    }\n",
       "\n",
       "    .dataframe tbody tr th {\n",
       "        vertical-align: top;\n",
       "    }\n",
       "\n",
       "    .dataframe thead th {\n",
       "        text-align: right;\n",
       "    }\n",
       "</style>\n",
       "<table border=\"1\" class=\"dataframe\">\n",
       "  <thead>\n",
       "    <tr style=\"text-align: right;\">\n",
       "      <th></th>\n",
       "      <th>Scores</th>\n",
       "    </tr>\n",
       "  </thead>\n",
       "  <tbody>\n",
       "    <tr>\n",
       "      <th>Sensitivity</th>\n",
       "      <td>1.000000</td>\n",
       "    </tr>\n",
       "    <tr>\n",
       "      <th>Specificity</th>\n",
       "      <td>0.999724</td>\n",
       "    </tr>\n",
       "    <tr>\n",
       "      <th>MCC</th>\n",
       "      <td>0.999776</td>\n",
       "    </tr>\n",
       "    <tr>\n",
       "      <th>AUROC</th>\n",
       "      <td>0.999862</td>\n",
       "    </tr>\n",
       "  </tbody>\n",
       "</table>\n",
       "</div>"
      ],
      "text/plain": [
       "               Scores\n",
       "Sensitivity  1.000000\n",
       "Specificity  0.999724\n",
       "MCC          0.999776\n",
       "AUROC        0.999862"
      ]
     },
     "execution_count": 54,
     "metadata": {},
     "output_type": "execute_result"
    }
   ],
   "source": [
    "# Evaluating prediction on the training data\n",
    "\n",
    "classification_summary(y_train, train_preds)"
   ]
  },
  {
   "cell_type": "code",
   "execution_count": 55,
   "metadata": {},
   "outputs": [
    {
     "data": {
      "text/html": [
       "<div>\n",
       "<style scoped>\n",
       "    .dataframe tbody tr th:only-of-type {\n",
       "        vertical-align: middle;\n",
       "    }\n",
       "\n",
       "    .dataframe tbody tr th {\n",
       "        vertical-align: top;\n",
       "    }\n",
       "\n",
       "    .dataframe thead th {\n",
       "        text-align: right;\n",
       "    }\n",
       "</style>\n",
       "<table border=\"1\" class=\"dataframe\">\n",
       "  <thead>\n",
       "    <tr style=\"text-align: right;\">\n",
       "      <th></th>\n",
       "      <th>Scores</th>\n",
       "    </tr>\n",
       "  </thead>\n",
       "  <tbody>\n",
       "    <tr>\n",
       "      <th>Sensitivity</th>\n",
       "      <td>0.921693</td>\n",
       "    </tr>\n",
       "    <tr>\n",
       "      <th>Specificity</th>\n",
       "      <td>0.842865</td>\n",
       "    </tr>\n",
       "    <tr>\n",
       "      <th>MCC</th>\n",
       "      <td>0.769327</td>\n",
       "    </tr>\n",
       "    <tr>\n",
       "      <th>AUROC</th>\n",
       "      <td>0.882279</td>\n",
       "    </tr>\n",
       "  </tbody>\n",
       "</table>\n",
       "</div>"
      ],
      "text/plain": [
       "               Scores\n",
       "Sensitivity  0.921693\n",
       "Specificity  0.842865\n",
       "MCC          0.769327\n",
       "AUROC        0.882279"
      ]
     },
     "execution_count": 55,
     "metadata": {},
     "output_type": "execute_result"
    }
   ],
   "source": [
    "# Evaluating prediction on the test data\n",
    "\n",
    "classification_summary(y_test, xgb_preds)"
   ]
  },
  {
   "cell_type": "code",
   "execution_count": 56,
   "metadata": {},
   "outputs": [
    {
     "data": {
      "text/html": [
       "<div>\n",
       "<style scoped>\n",
       "    .dataframe tbody tr th:only-of-type {\n",
       "        vertical-align: middle;\n",
       "    }\n",
       "\n",
       "    .dataframe tbody tr th {\n",
       "        vertical-align: top;\n",
       "    }\n",
       "\n",
       "    .dataframe thead th {\n",
       "        text-align: right;\n",
       "    }\n",
       "</style>\n",
       "<table border=\"1\" class=\"dataframe\">\n",
       "  <thead>\n",
       "    <tr style=\"text-align: right;\">\n",
       "      <th></th>\n",
       "      <th>Predicted τ</th>\n",
       "      <th>Predicted μμμ</th>\n",
       "    </tr>\n",
       "  </thead>\n",
       "  <tbody>\n",
       "    <tr>\n",
       "      <th>Actual τ</th>\n",
       "      <td>6544</td>\n",
       "      <td>1220</td>\n",
       "    </tr>\n",
       "    <tr>\n",
       "      <th>Actual μμμ</th>\n",
       "      <td>979</td>\n",
       "      <td>11523</td>\n",
       "    </tr>\n",
       "  </tbody>\n",
       "</table>\n",
       "</div>"
      ],
      "text/plain": [
       "            Predicted τ  Predicted μμμ\n",
       "Actual τ           6544           1220\n",
       "Actual μμμ          979          11523"
      ]
     },
     "execution_count": 56,
     "metadata": {},
     "output_type": "execute_result"
    }
   ],
   "source": [
    "confusion_matrix_dataframe(y_test, \n",
    "                           xgb_preds,\n",
    "                           columns = [\"Predicted τ\", \"Predicted μμμ\"],\n",
    "                           index   = [\"Actual τ\", \"Actual μμμ\"])"
   ]
  },
  {
   "cell_type": "code",
   "execution_count": 57,
   "metadata": {},
   "outputs": [
    {
     "data": {
      "text/html": [
       "<div>\n",
       "<style scoped>\n",
       "    .dataframe tbody tr th:only-of-type {\n",
       "        vertical-align: middle;\n",
       "    }\n",
       "\n",
       "    .dataframe tbody tr th {\n",
       "        vertical-align: top;\n",
       "    }\n",
       "\n",
       "    .dataframe thead th {\n",
       "        text-align: right;\n",
       "    }\n",
       "</style>\n",
       "<table border=\"1\" class=\"dataframe\">\n",
       "  <thead>\n",
       "    <tr style=\"text-align: right;\">\n",
       "      <th></th>\n",
       "      <th>Feature</th>\n",
       "      <th>Importance</th>\n",
       "    </tr>\n",
       "  </thead>\n",
       "  <tbody>\n",
       "    <tr>\n",
       "      <th>5</th>\n",
       "      <td>ip_sig</td>\n",
       "      <td>0.191872</td>\n",
       "    </tr>\n",
       "    <tr>\n",
       "      <th>19</th>\n",
       "      <td>iso</td>\n",
       "      <td>0.0780678</td>\n",
       "    </tr>\n",
       "    <tr>\n",
       "      <th>4</th>\n",
       "      <td>ip</td>\n",
       "      <td>0.0650457</td>\n",
       "    </tr>\n",
       "    <tr>\n",
       "      <th>23</th>\n",
       "      <td>iso_sum_bdt</td>\n",
       "      <td>0.0545899</td>\n",
       "    </tr>\n",
       "    <tr>\n",
       "      <th>0</th>\n",
       "      <td>life_time</td>\n",
       "      <td>0.0407564</td>\n",
       "    </tr>\n",
       "  </tbody>\n",
       "</table>\n",
       "</div>"
      ],
      "text/plain": [
       "        Feature Importance\n",
       "5        ip_sig   0.191872\n",
       "19          iso  0.0780678\n",
       "4            ip  0.0650457\n",
       "23  iso_sum_bdt  0.0545899\n",
       "0     life_time  0.0407564"
      ]
     },
     "execution_count": 57,
     "metadata": {},
     "output_type": "execute_result"
    }
   ],
   "source": [
    "# Creating a dataframe of the model's feature importances and feature names\n",
    "xgb_features = pd.DataFrame([X_test.columns, xgb.feature_importances_],\n",
    "                            index = [\"Feature\", \"Importance\"]).T\n",
    "\n",
    "# Sorting by the importance value\n",
    "xgb_features = xgb_features.sort_values(by = \"Importance\", ascending = False)\n",
    "\n",
    "# Displaying the df\n",
    "xgb_features.head()"
   ]
  },
  {
   "cell_type": "markdown",
   "metadata": {},
   "source": [
    "#### Principal Component Analysis "
   ]
  },
  {
   "cell_type": "code",
   "execution_count": 58,
   "metadata": {},
   "outputs": [],
   "source": [
    "\"\"\"\n",
    "Instantiating the grid search's pipeline\n",
    "xgb_pipe = Pipeline([(\"xgb2\", XGBClassifier(random_state = 42,\n",
    "                                           n_jobs       = 4,\n",
    "                                           verbosity    = 0))])\n",
    "\n",
    "# Setting up a hyperparameter dictionary\n",
    "# These are the optimal values\n",
    "params    = dict(xgb2__max_depth     = [8],\n",
    "                 xgb2__n_estimators  = [350],\n",
    "                 xgb2__learning_rate = [0.1],\n",
    "                 xgb2__booster       = [\"gbtree\"],\n",
    "                 xgb2__gamma         = [0])\n",
    "\n",
    "# Setting up the gridsearch object\n",
    "xgb2_gs   = GridSearchCV(xgb2_pipe, \n",
    "                         param_grid = params,\n",
    "                         cv         = 5)\n",
    "\n",
    "# Fitting the gridsearch to our training data\n",
    "xgb2_gs.fit(X_train_pca, y_train);\n",
    "\n",
    "# Printing out our best parameters\n",
    "xgb2_gs.best_params_\n",
    "\"\"\";"
   ]
  },
  {
   "cell_type": "code",
   "execution_count": 59,
   "metadata": {},
   "outputs": [],
   "source": [
    "# Instantiating the XGBoost classifier\n",
    "# Other hyperparameters are defaults\n",
    "\n",
    "xgb2 = XGBClassifier(random_state = 42,\n",
    "                     n_jobs       = 4,\n",
    "                     verbosity    = 0,\n",
    "                     max_depth    = 8,\n",
    "                     n_estimators = 350)"
   ]
  },
  {
   "cell_type": "code",
   "execution_count": 60,
   "metadata": {},
   "outputs": [],
   "source": [
    "# Fitting the algorithm to our training data\n",
    "xgb2.fit(X_train_pca, y_train)\n",
    "\n",
    "# Making training predictions\n",
    "train_preds = xgb2.predict(X_train_pca)\n",
    "\n",
    "# Making test predictions\n",
    "xgb2_preds   = xgb2.predict(X_test_pca)"
   ]
  },
  {
   "cell_type": "code",
   "execution_count": 61,
   "metadata": {},
   "outputs": [
    {
     "data": {
      "text/html": [
       "<div>\n",
       "<style scoped>\n",
       "    .dataframe tbody tr th:only-of-type {\n",
       "        vertical-align: middle;\n",
       "    }\n",
       "\n",
       "    .dataframe tbody tr th {\n",
       "        vertical-align: top;\n",
       "    }\n",
       "\n",
       "    .dataframe thead th {\n",
       "        text-align: right;\n",
       "    }\n",
       "</style>\n",
       "<table border=\"1\" class=\"dataframe\">\n",
       "  <thead>\n",
       "    <tr style=\"text-align: right;\">\n",
       "      <th></th>\n",
       "      <th>Scores</th>\n",
       "    </tr>\n",
       "  </thead>\n",
       "  <tbody>\n",
       "    <tr>\n",
       "      <th>Sensitivity</th>\n",
       "      <td>0.999452</td>\n",
       "    </tr>\n",
       "    <tr>\n",
       "      <th>Specificity</th>\n",
       "      <td>0.994480</td>\n",
       "    </tr>\n",
       "    <tr>\n",
       "      <th>MCC</th>\n",
       "      <td>0.994812</td>\n",
       "    </tr>\n",
       "    <tr>\n",
       "      <th>AUROC</th>\n",
       "      <td>0.996966</td>\n",
       "    </tr>\n",
       "  </tbody>\n",
       "</table>\n",
       "</div>"
      ],
      "text/plain": [
       "               Scores\n",
       "Sensitivity  0.999452\n",
       "Specificity  0.994480\n",
       "MCC          0.994812\n",
       "AUROC        0.996966"
      ]
     },
     "execution_count": 61,
     "metadata": {},
     "output_type": "execute_result"
    }
   ],
   "source": [
    "# Evaluating prediction on the training data\n",
    "\n",
    "classification_summary(y_train, train_preds)"
   ]
  },
  {
   "cell_type": "code",
   "execution_count": 62,
   "metadata": {},
   "outputs": [
    {
     "data": {
      "text/html": [
       "<div>\n",
       "<style scoped>\n",
       "    .dataframe tbody tr th:only-of-type {\n",
       "        vertical-align: middle;\n",
       "    }\n",
       "\n",
       "    .dataframe tbody tr th {\n",
       "        vertical-align: top;\n",
       "    }\n",
       "\n",
       "    .dataframe thead th {\n",
       "        text-align: right;\n",
       "    }\n",
       "</style>\n",
       "<table border=\"1\" class=\"dataframe\">\n",
       "  <thead>\n",
       "    <tr style=\"text-align: right;\">\n",
       "      <th></th>\n",
       "      <th>Scores</th>\n",
       "    </tr>\n",
       "  </thead>\n",
       "  <tbody>\n",
       "    <tr>\n",
       "      <th>Sensitivity</th>\n",
       "      <td>0.853543</td>\n",
       "    </tr>\n",
       "    <tr>\n",
       "      <th>Specificity</th>\n",
       "      <td>0.748712</td>\n",
       "    </tr>\n",
       "    <tr>\n",
       "      <th>MCC</th>\n",
       "      <td>0.604072</td>\n",
       "    </tr>\n",
       "    <tr>\n",
       "      <th>AUROC</th>\n",
       "      <td>0.801128</td>\n",
       "    </tr>\n",
       "  </tbody>\n",
       "</table>\n",
       "</div>"
      ],
      "text/plain": [
       "               Scores\n",
       "Sensitivity  0.853543\n",
       "Specificity  0.748712\n",
       "MCC          0.604072\n",
       "AUROC        0.801128"
      ]
     },
     "execution_count": 62,
     "metadata": {},
     "output_type": "execute_result"
    }
   ],
   "source": [
    "# Evaluating prediction on the test data\n",
    "\n",
    "classification_summary(y_test, xgb2_preds)"
   ]
  },
  {
   "cell_type": "code",
   "execution_count": 63,
   "metadata": {},
   "outputs": [
    {
     "data": {
      "text/html": [
       "<div>\n",
       "<style scoped>\n",
       "    .dataframe tbody tr th:only-of-type {\n",
       "        vertical-align: middle;\n",
       "    }\n",
       "\n",
       "    .dataframe tbody tr th {\n",
       "        vertical-align: top;\n",
       "    }\n",
       "\n",
       "    .dataframe thead th {\n",
       "        text-align: right;\n",
       "    }\n",
       "</style>\n",
       "<table border=\"1\" class=\"dataframe\">\n",
       "  <thead>\n",
       "    <tr style=\"text-align: right;\">\n",
       "      <th></th>\n",
       "      <th>Predicted τ</th>\n",
       "      <th>Predicted μμμ</th>\n",
       "    </tr>\n",
       "  </thead>\n",
       "  <tbody>\n",
       "    <tr>\n",
       "      <th>Actual τ</th>\n",
       "      <td>5813</td>\n",
       "      <td>1951</td>\n",
       "    </tr>\n",
       "    <tr>\n",
       "      <th>Actual μμμ</th>\n",
       "      <td>1831</td>\n",
       "      <td>10671</td>\n",
       "    </tr>\n",
       "  </tbody>\n",
       "</table>\n",
       "</div>"
      ],
      "text/plain": [
       "            Predicted τ  Predicted μμμ\n",
       "Actual τ           5813           1951\n",
       "Actual μμμ         1831          10671"
      ]
     },
     "execution_count": 63,
     "metadata": {},
     "output_type": "execute_result"
    }
   ],
   "source": [
    "confusion_matrix_dataframe(y_test, \n",
    "                           xgb2_preds,\n",
    "                           columns = [\"Predicted τ\", \"Predicted μμμ\"],\n",
    "                           index   = [\"Actual τ\", \"Actual μμμ\"])"
   ]
  },
  {
   "cell_type": "markdown",
   "metadata": {},
   "source": [
    "### AdaBoost Classification"
   ]
  },
  {
   "cell_type": "markdown",
   "metadata": {},
   "source": [
    "#### Original Data"
   ]
  },
  {
   "cell_type": "code",
   "execution_count": 64,
   "metadata": {},
   "outputs": [],
   "source": [
    "\"\"\"\n",
    "#Instantiating the grid search's pipeline\n",
    "adc_pipe = Pipeline([(\"adc\", AdaBoostClassifier(random_state = 42))])\n",
    "\n",
    "# Setting up a hyperparameter dictionary\n",
    "# These are the optimal values\n",
    "params   = dict(adc__n_estimators  = [225],\n",
    "                adc__algorithm     = [\"SAMME.R\"],\n",
    "                adc__learning_rate = [0.66])\n",
    "\n",
    "# Setting up the gridsearch object\n",
    "adc_gs   = GridSearchCV(adc_pipe, \n",
    "                        param_grid = params,\n",
    "                        cv         = 5)\n",
    "\n",
    "# Fitting the gridsearch to our training data\n",
    "adc_gs.fit(X_train, y_train);\n",
    "\n",
    "# Printing out our best parameters\n",
    "adc_gs.best_params_\n",
    "\"\"\";"
   ]
  },
  {
   "cell_type": "code",
   "execution_count": 65,
   "metadata": {},
   "outputs": [],
   "source": [
    "# Instantiating the AdaBoost classifier\n",
    "# All other parameters are defaults\n",
    "\n",
    "adc = AdaBoostClassifier(random_state  = 42,\n",
    "                         n_estimators  = 225,\n",
    "                         learning_rate = 0.66)"
   ]
  },
  {
   "cell_type": "code",
   "execution_count": 66,
   "metadata": {},
   "outputs": [],
   "source": [
    "# Fitting the algorithm to our training data\n",
    "adc.fit(X_train, y_train)\n",
    "\n",
    "# Making training predictions\n",
    "train_preds = adc.predict(X_train)\n",
    "\n",
    "# Making test predictions\n",
    "adc_preds   = adc.predict(X_test)\n",
    "\n",
    "# Getting test  probabilities\n",
    "adc_probas  = adc.predict_proba(X_test)"
   ]
  },
  {
   "cell_type": "code",
   "execution_count": 67,
   "metadata": {},
   "outputs": [
    {
     "data": {
      "text/html": [
       "<div>\n",
       "<style scoped>\n",
       "    .dataframe tbody tr th:only-of-type {\n",
       "        vertical-align: middle;\n",
       "    }\n",
       "\n",
       "    .dataframe tbody tr th {\n",
       "        vertical-align: top;\n",
       "    }\n",
       "\n",
       "    .dataframe thead th {\n",
       "        text-align: right;\n",
       "    }\n",
       "</style>\n",
       "<table border=\"1\" class=\"dataframe\">\n",
       "  <thead>\n",
       "    <tr style=\"text-align: right;\">\n",
       "      <th></th>\n",
       "      <th>Scores</th>\n",
       "    </tr>\n",
       "  </thead>\n",
       "  <tbody>\n",
       "    <tr>\n",
       "      <th>Sensitivity</th>\n",
       "      <td>0.913856</td>\n",
       "    </tr>\n",
       "    <tr>\n",
       "      <th>Specificity</th>\n",
       "      <td>0.821860</td>\n",
       "    </tr>\n",
       "    <tr>\n",
       "      <th>MCC</th>\n",
       "      <td>0.741637</td>\n",
       "    </tr>\n",
       "    <tr>\n",
       "      <th>AUROC</th>\n",
       "      <td>0.867858</td>\n",
       "    </tr>\n",
       "  </tbody>\n",
       "</table>\n",
       "</div>"
      ],
      "text/plain": [
       "               Scores\n",
       "Sensitivity  0.913856\n",
       "Specificity  0.821860\n",
       "MCC          0.741637\n",
       "AUROC        0.867858"
      ]
     },
     "execution_count": 67,
     "metadata": {},
     "output_type": "execute_result"
    }
   ],
   "source": [
    "# Evaluating prediction on the training data\n",
    "\n",
    "classification_summary(y_train, train_preds)"
   ]
  },
  {
   "cell_type": "code",
   "execution_count": 68,
   "metadata": {},
   "outputs": [
    {
     "data": {
      "text/html": [
       "<div>\n",
       "<style scoped>\n",
       "    .dataframe tbody tr th:only-of-type {\n",
       "        vertical-align: middle;\n",
       "    }\n",
       "\n",
       "    .dataframe tbody tr th {\n",
       "        vertical-align: top;\n",
       "    }\n",
       "\n",
       "    .dataframe thead th {\n",
       "        text-align: right;\n",
       "    }\n",
       "</style>\n",
       "<table border=\"1\" class=\"dataframe\">\n",
       "  <thead>\n",
       "    <tr style=\"text-align: right;\">\n",
       "      <th></th>\n",
       "      <th>Scores</th>\n",
       "    </tr>\n",
       "  </thead>\n",
       "  <tbody>\n",
       "    <tr>\n",
       "      <th>Sensitivity</th>\n",
       "      <td>0.911374</td>\n",
       "    </tr>\n",
       "    <tr>\n",
       "      <th>Specificity</th>\n",
       "      <td>0.811824</td>\n",
       "    </tr>\n",
       "    <tr>\n",
       "      <th>MCC</th>\n",
       "      <td>0.729987</td>\n",
       "    </tr>\n",
       "    <tr>\n",
       "      <th>AUROC</th>\n",
       "      <td>0.861599</td>\n",
       "    </tr>\n",
       "  </tbody>\n",
       "</table>\n",
       "</div>"
      ],
      "text/plain": [
       "               Scores\n",
       "Sensitivity  0.911374\n",
       "Specificity  0.811824\n",
       "MCC          0.729987\n",
       "AUROC        0.861599"
      ]
     },
     "execution_count": 68,
     "metadata": {},
     "output_type": "execute_result"
    }
   ],
   "source": [
    "# Evaluating prediction on the test data\n",
    "\n",
    "classification_summary(y_test, adc_preds)"
   ]
  },
  {
   "cell_type": "code",
   "execution_count": 69,
   "metadata": {},
   "outputs": [
    {
     "data": {
      "text/html": [
       "<div>\n",
       "<style scoped>\n",
       "    .dataframe tbody tr th:only-of-type {\n",
       "        vertical-align: middle;\n",
       "    }\n",
       "\n",
       "    .dataframe tbody tr th {\n",
       "        vertical-align: top;\n",
       "    }\n",
       "\n",
       "    .dataframe thead th {\n",
       "        text-align: right;\n",
       "    }\n",
       "</style>\n",
       "<table border=\"1\" class=\"dataframe\">\n",
       "  <thead>\n",
       "    <tr style=\"text-align: right;\">\n",
       "      <th></th>\n",
       "      <th>Predicted τ</th>\n",
       "      <th>Predicted μμμ</th>\n",
       "    </tr>\n",
       "  </thead>\n",
       "  <tbody>\n",
       "    <tr>\n",
       "      <th>Actual τ</th>\n",
       "      <td>6303</td>\n",
       "      <td>1461</td>\n",
       "    </tr>\n",
       "    <tr>\n",
       "      <th>Actual μμμ</th>\n",
       "      <td>1108</td>\n",
       "      <td>11394</td>\n",
       "    </tr>\n",
       "  </tbody>\n",
       "</table>\n",
       "</div>"
      ],
      "text/plain": [
       "            Predicted τ  Predicted μμμ\n",
       "Actual τ           6303           1461\n",
       "Actual μμμ         1108          11394"
      ]
     },
     "execution_count": 69,
     "metadata": {},
     "output_type": "execute_result"
    }
   ],
   "source": [
    "confusion_matrix_dataframe(y_test, \n",
    "                           adc_preds,\n",
    "                           columns = [\"Predicted τ\", \"Predicted μμμ\"],\n",
    "                           index   = [\"Actual τ\", \"Actual μμμ\"])"
   ]
  },
  {
   "cell_type": "markdown",
   "metadata": {},
   "source": [
    "#### Principal Component Analysis"
   ]
  },
  {
   "cell_type": "code",
   "execution_count": 70,
   "metadata": {},
   "outputs": [],
   "source": [
    "\"\"\"\n",
    "#Instantiating the grid search's pipeline\n",
    "adc2_pipe = Pipeline([(\"adc2\", AdaBoostClassifier(random_state = 42))])\n",
    "\n",
    "# Setting up a hyperparameter dictionary\n",
    "# These are the optimal values\n",
    "params   = dict(adc2__n_estimators  = [500],\n",
    "                adc2__algorithm     = [\"SAMME.R\"],\n",
    "                adc2__learning_rate = [0.4])\n",
    "\n",
    "# Setting up the gridsearch object\n",
    "adc2_gs   = GridSearchCV(adc2_pipe, \n",
    "                         param_grid = params,\n",
    "                         cv         = 5)\n",
    "\n",
    "# Fitting the gridsearch to our training data\n",
    "adc2_gs.fit(X_train_pca, y_train);\n",
    "\n",
    "# Printing out our best parameters\n",
    "adc2_gs.best_params_\n",
    "\"\"\";"
   ]
  },
  {
   "cell_type": "code",
   "execution_count": 71,
   "metadata": {},
   "outputs": [],
   "source": [
    "# Instantiating the AdaBoost classifier\n",
    "# All other parameters are defaults\n",
    "\n",
    "adc2 = AdaBoostClassifier(random_state  = 42,\n",
    "                          n_estimators  = 500,\n",
    "                          learning_rate = 0.4)"
   ]
  },
  {
   "cell_type": "code",
   "execution_count": 72,
   "metadata": {},
   "outputs": [],
   "source": [
    "# Fitting the algorithm to our training data\n",
    "adc2.fit(X_train_pca, y_train)\n",
    "\n",
    "# Making training predictions\n",
    "train_preds = adc2.predict(X_train_pca)\n",
    "\n",
    "# Making test predictions\n",
    "adc2_preds   = adc2.predict(X_test_pca)\n",
    "\n",
    "# Getting test  probabilities\n",
    "adc2_probas  = adc2.predict_proba(X_test_pca)"
   ]
  },
  {
   "cell_type": "code",
   "execution_count": 73,
   "metadata": {},
   "outputs": [
    {
     "data": {
      "text/html": [
       "<div>\n",
       "<style scoped>\n",
       "    .dataframe tbody tr th:only-of-type {\n",
       "        vertical-align: middle;\n",
       "    }\n",
       "\n",
       "    .dataframe tbody tr th {\n",
       "        vertical-align: top;\n",
       "    }\n",
       "\n",
       "    .dataframe thead th {\n",
       "        text-align: right;\n",
       "    }\n",
       "</style>\n",
       "<table border=\"1\" class=\"dataframe\">\n",
       "  <thead>\n",
       "    <tr style=\"text-align: right;\">\n",
       "      <th></th>\n",
       "      <th>Scores</th>\n",
       "    </tr>\n",
       "  </thead>\n",
       "  <tbody>\n",
       "    <tr>\n",
       "      <th>Sensitivity</th>\n",
       "      <td>0.916701</td>\n",
       "    </tr>\n",
       "    <tr>\n",
       "      <th>Specificity</th>\n",
       "      <td>0.801380</td>\n",
       "    </tr>\n",
       "    <tr>\n",
       "      <th>MCC</th>\n",
       "      <td>0.727983</td>\n",
       "    </tr>\n",
       "    <tr>\n",
       "      <th>AUROC</th>\n",
       "      <td>0.859041</td>\n",
       "    </tr>\n",
       "  </tbody>\n",
       "</table>\n",
       "</div>"
      ],
      "text/plain": [
       "               Scores\n",
       "Sensitivity  0.916701\n",
       "Specificity  0.801380\n",
       "MCC          0.727983\n",
       "AUROC        0.859041"
      ]
     },
     "execution_count": 73,
     "metadata": {},
     "output_type": "execute_result"
    }
   ],
   "source": [
    "# Evaluating prediction on the training data\n",
    "\n",
    "classification_summary(y_train, train_preds)"
   ]
  },
  {
   "cell_type": "code",
   "execution_count": 74,
   "metadata": {},
   "outputs": [
    {
     "data": {
      "text/html": [
       "<div>\n",
       "<style scoped>\n",
       "    .dataframe tbody tr th:only-of-type {\n",
       "        vertical-align: middle;\n",
       "    }\n",
       "\n",
       "    .dataframe tbody tr th {\n",
       "        vertical-align: top;\n",
       "    }\n",
       "\n",
       "    .dataframe thead th {\n",
       "        text-align: right;\n",
       "    }\n",
       "</style>\n",
       "<table border=\"1\" class=\"dataframe\">\n",
       "  <thead>\n",
       "    <tr style=\"text-align: right;\">\n",
       "      <th></th>\n",
       "      <th>Scores</th>\n",
       "    </tr>\n",
       "  </thead>\n",
       "  <tbody>\n",
       "    <tr>\n",
       "      <th>Sensitivity</th>\n",
       "      <td>0.855623</td>\n",
       "    </tr>\n",
       "    <tr>\n",
       "      <th>Specificity</th>\n",
       "      <td>0.721664</td>\n",
       "    </tr>\n",
       "    <tr>\n",
       "      <th>MCC</th>\n",
       "      <td>0.582757</td>\n",
       "    </tr>\n",
       "    <tr>\n",
       "      <th>AUROC</th>\n",
       "      <td>0.788644</td>\n",
       "    </tr>\n",
       "  </tbody>\n",
       "</table>\n",
       "</div>"
      ],
      "text/plain": [
       "               Scores\n",
       "Sensitivity  0.855623\n",
       "Specificity  0.721664\n",
       "MCC          0.582757\n",
       "AUROC        0.788644"
      ]
     },
     "execution_count": 74,
     "metadata": {},
     "output_type": "execute_result"
    }
   ],
   "source": [
    "# Evaluating prediction on the test data\n",
    "\n",
    "classification_summary(y_test, adc2_preds)"
   ]
  },
  {
   "cell_type": "code",
   "execution_count": 75,
   "metadata": {},
   "outputs": [
    {
     "data": {
      "text/html": [
       "<div>\n",
       "<style scoped>\n",
       "    .dataframe tbody tr th:only-of-type {\n",
       "        vertical-align: middle;\n",
       "    }\n",
       "\n",
       "    .dataframe tbody tr th {\n",
       "        vertical-align: top;\n",
       "    }\n",
       "\n",
       "    .dataframe thead th {\n",
       "        text-align: right;\n",
       "    }\n",
       "</style>\n",
       "<table border=\"1\" class=\"dataframe\">\n",
       "  <thead>\n",
       "    <tr style=\"text-align: right;\">\n",
       "      <th></th>\n",
       "      <th>Predicted τ</th>\n",
       "      <th>Predicted μμμ</th>\n",
       "    </tr>\n",
       "  </thead>\n",
       "  <tbody>\n",
       "    <tr>\n",
       "      <th>Actual τ</th>\n",
       "      <td>5603</td>\n",
       "      <td>2161</td>\n",
       "    </tr>\n",
       "    <tr>\n",
       "      <th>Actual μμμ</th>\n",
       "      <td>1805</td>\n",
       "      <td>10697</td>\n",
       "    </tr>\n",
       "  </tbody>\n",
       "</table>\n",
       "</div>"
      ],
      "text/plain": [
       "            Predicted τ  Predicted μμμ\n",
       "Actual τ           5603           2161\n",
       "Actual μμμ         1805          10697"
      ]
     },
     "execution_count": 75,
     "metadata": {},
     "output_type": "execute_result"
    }
   ],
   "source": [
    "confusion_matrix_dataframe(y_test, \n",
    "                           adc2_preds,\n",
    "                           columns = [\"Predicted τ\", \"Predicted μμμ\"],\n",
    "                           index   = [\"Actual τ\", \"Actual μμμ\"])"
   ]
  },
  {
   "cell_type": "markdown",
   "metadata": {},
   "source": [
    "## Evaluation"
   ]
  },
  {
   "cell_type": "code",
   "execution_count": 76,
   "metadata": {},
   "outputs": [],
   "source": [
    "# This allows us to view the two metric dataframes side-by-side\n",
    "\n",
    "def display_side_by_side(*args):\n",
    "    html_str = ''\n",
    "    for df in args:\n",
    "        html_str += df.to_html()\n",
    "    display_html(html_str.replace('table', 'table style=\"display:inline\"'), raw = True)"
   ]
  },
  {
   "cell_type": "markdown",
   "metadata": {},
   "source": [
    "### Predictions Dataframe"
   ]
  },
  {
   "cell_type": "markdown",
   "metadata": {},
   "source": [
    "#### Original Data"
   ]
  },
  {
   "cell_type": "code",
   "execution_count": 77,
   "metadata": {},
   "outputs": [],
   "source": [
    "org_preds = pd.DataFrame([np.array(y_test), knn_preds, rfr_preds, \n",
    "                          sgd_preds, xgb_preds, adc_preds],\n",
    "                         index = [\"True\", \"KNN\", \"RFR\", \"SGD\", \n",
    "                                  \"XGB\", \"ADC\"]).T"
   ]
  },
  {
   "cell_type": "markdown",
   "metadata": {},
   "source": [
    "#### Principal Component Analysis"
   ]
  },
  {
   "cell_type": "code",
   "execution_count": 78,
   "metadata": {},
   "outputs": [],
   "source": [
    "pca_preds = pd.DataFrame([np.array(y_test), knn_preds, rfr_preds, \n",
    "                          sgd_preds, xgb_preds, adc_preds],\n",
    "                         index = [\"True\", \"KNN\", \"RFR\", \"SGD\", \n",
    "                                  \"XGB\", \"ADC\"]).T"
   ]
  },
  {
   "cell_type": "markdown",
   "metadata": {},
   "source": [
    "### Metric Scores Dataframe"
   ]
  },
  {
   "cell_type": "markdown",
   "metadata": {},
   "source": [
    "The code is from user `ntg` on StackOverflow.  [Here](https://stackoverflow.com/a/44923103) is the source."
   ]
  },
  {
   "cell_type": "markdown",
   "metadata": {},
   "source": [
    "#### Original Data"
   ]
  },
  {
   "cell_type": "code",
   "execution_count": 79,
   "metadata": {},
   "outputs": [],
   "source": [
    "org_accuracy     = [accuracy_score(y_test, knn_preds),\n",
    "                   accuracy_score(y_test, rfr_preds),\n",
    "                   accuracy_score(y_test, sgd_preds),\n",
    "                   accuracy_score(y_test, xgb_preds),\n",
    "                   accuracy_score(y_test, adc_preds)]\n",
    "\n",
    "\n",
    "org_recall      = [recall_score(y_test, knn_preds),\n",
    "                   recall_score(y_test, rfr_preds),\n",
    "                   recall_score(y_test, sgd_preds),\n",
    "                   recall_score(y_test, xgb_preds),\n",
    "                   recall_score(y_test, adc_preds)]\n",
    "\n",
    "org_specificity = [specificity(y_test, knn_preds),\n",
    "                   specificity(y_test, rfr_preds),\n",
    "                   specificity(y_test, sgd_preds),\n",
    "                   specificity(y_test, xgb_preds),\n",
    "                   specificity(y_test, adc_preds)]\n",
    "\n",
    "org_mcc         = [matthews_corrcoef(y_test, knn_preds),\n",
    "                   matthews_corrcoef(y_test, rfr_preds),\n",
    "                   matthews_corrcoef(y_test, sgd_preds),\n",
    "                   matthews_corrcoef(y_test, xgb_preds),\n",
    "                   matthews_corrcoef(y_test, adc_preds)]\n",
    "\n",
    "org_auroc       = [roc_auc_score(y_test, knn_preds),\n",
    "                   roc_auc_score(y_test, rfr_preds),\n",
    "                   roc_auc_score(y_test, sgd_preds),\n",
    "                   roc_auc_score(y_test, xgb_preds),\n",
    "                   roc_auc_score(y_test, adc_preds)]"
   ]
  },
  {
   "cell_type": "markdown",
   "metadata": {},
   "source": [
    "#### Principal Component Analysis"
   ]
  },
  {
   "cell_type": "code",
   "execution_count": 80,
   "metadata": {},
   "outputs": [],
   "source": [
    "pca_accuracy    = [accuracy_score(y_test, knn2_preds),\n",
    "                   accuracy_score(y_test, rfr2_preds),\n",
    "                   accuracy_score(y_test, sgd2_preds),\n",
    "                   accuracy_score(y_test, xgb2_preds),\n",
    "                   accuracy_score(y_test, adc2_preds)]\n",
    "\n",
    "\n",
    "pca_recall      = [recall_score(y_test, knn2_preds),\n",
    "                   recall_score(y_test, rfr2_preds),\n",
    "                   recall_score(y_test, sgd2_preds),\n",
    "                   recall_score(y_test, xgb2_preds),\n",
    "                   recall_score(y_test, adc2_preds)]\n",
    "\n",
    "pca_specificity = [specificity(y_test, knn2_preds),\n",
    "                   specificity(y_test, rfr2_preds),\n",
    "                   specificity(y_test, sgd2_preds),\n",
    "                   specificity(y_test, xgb2_preds),\n",
    "                   specificity(y_test, adc2_preds)]\n",
    "\n",
    "pca_mcc         = [matthews_corrcoef(y_test, knn2_preds),\n",
    "                   matthews_corrcoef(y_test, rfr2_preds),\n",
    "                   matthews_corrcoef(y_test, sgd2_preds),\n",
    "                   matthews_corrcoef(y_test, xgb2_preds),\n",
    "                   matthews_corrcoef(y_test, adc2_preds)]\n",
    "\n",
    "pca_auroc       = [roc_auc_score(y_test, knn2_preds),\n",
    "                   roc_auc_score(y_test, rfr2_preds),\n",
    "                   roc_auc_score(y_test, sgd2_preds),\n",
    "                   roc_auc_score(y_test, xgb2_preds),\n",
    "                   roc_auc_score(y_test, adc2_preds)]"
   ]
  },
  {
   "cell_type": "code",
   "execution_count": 81,
   "metadata": {},
   "outputs": [],
   "source": [
    "# Converting the lists into dataframes\n",
    "\n",
    "# A dataframe for the original data\n",
    "org_scores = pd.DataFrame(data    = [org_accuracy, org_recall, org_specificity, \n",
    "                                     org_auroc, org_mcc],\n",
    "                          columns = [\"KNN\", \"RFR\", \"SGD\", \"XGB\", \"ADA\"],\n",
    "                          index   = [\"Accuracy\", \"Recall\", \"Specificity\", \n",
    "                                     \"AUROC\", \"MCC\"])\n",
    "\n",
    "# A dataframe for the principal component analysis\n",
    "pca_scores = pd.DataFrame(data    = [pca_accuracy, pca_recall, pca_specificity, \n",
    "                                     pca_auroc, pca_mcc],\n",
    "                          columns = [\"KNN\", \"RFR\", \"SGD\", \"XGB\", \"ADA\"],\n",
    "                          index   = [\"Accuracy\", \"Recall\", \"Specificity\", \n",
    "                                     \"AUROC\", \"MCC\"])"
   ]
  },
  {
   "cell_type": "markdown",
   "metadata": {},
   "source": [
    "### Metric Scores Comparison"
   ]
  },
  {
   "cell_type": "markdown",
   "metadata": {},
   "source": [
    "#### Original Data"
   ]
  },
  {
   "cell_type": "code",
   "execution_count": 82,
   "metadata": {},
   "outputs": [
    {
     "data": {
      "text/html": [
       "<div>\n",
       "<style scoped>\n",
       "    .dataframe tbody tr th:only-of-type {\n",
       "        vertical-align: middle;\n",
       "    }\n",
       "\n",
       "    .dataframe tbody tr th {\n",
       "        vertical-align: top;\n",
       "    }\n",
       "\n",
       "    .dataframe thead th {\n",
       "        text-align: right;\n",
       "    }\n",
       "</style>\n",
       "<table border=\"1\" class=\"dataframe\">\n",
       "  <thead>\n",
       "    <tr style=\"text-align: right;\">\n",
       "      <th></th>\n",
       "      <th>KNN</th>\n",
       "      <th>RFR</th>\n",
       "      <th>SGD</th>\n",
       "      <th>XGB</th>\n",
       "      <th>ADA</th>\n",
       "    </tr>\n",
       "  </thead>\n",
       "  <tbody>\n",
       "    <tr>\n",
       "      <th>Accuracy</th>\n",
       "      <td>0.607175</td>\n",
       "      <td>0.874420</td>\n",
       "      <td>0.647488</td>\n",
       "      <td>0.891493</td>\n",
       "      <td>0.873236</td>\n",
       "    </tr>\n",
       "    <tr>\n",
       "      <th>Recall</th>\n",
       "      <td>0.776756</td>\n",
       "      <td>0.901216</td>\n",
       "      <td>0.565829</td>\n",
       "      <td>0.921693</td>\n",
       "      <td>0.911374</td>\n",
       "    </tr>\n",
       "    <tr>\n",
       "      <th>Specificity</th>\n",
       "      <td>0.334106</td>\n",
       "      <td>0.831273</td>\n",
       "      <td>0.778980</td>\n",
       "      <td>0.842865</td>\n",
       "      <td>0.811824</td>\n",
       "    </tr>\n",
       "    <tr>\n",
       "      <th>AUROC</th>\n",
       "      <td>0.555431</td>\n",
       "      <td>0.866244</td>\n",
       "      <td>0.672405</td>\n",
       "      <td>0.882279</td>\n",
       "      <td>0.861599</td>\n",
       "    </tr>\n",
       "    <tr>\n",
       "      <th>MCC</th>\n",
       "      <td>0.122013</td>\n",
       "      <td>0.733854</td>\n",
       "      <td>0.338238</td>\n",
       "      <td>0.769327</td>\n",
       "      <td>0.729987</td>\n",
       "    </tr>\n",
       "  </tbody>\n",
       "</table>\n",
       "</div>"
      ],
      "text/plain": [
       "                  KNN       RFR       SGD       XGB       ADA\n",
       "Accuracy     0.607175  0.874420  0.647488  0.891493  0.873236\n",
       "Recall       0.776756  0.901216  0.565829  0.921693  0.911374\n",
       "Specificity  0.334106  0.831273  0.778980  0.842865  0.811824\n",
       "AUROC        0.555431  0.866244  0.672405  0.882279  0.861599\n",
       "MCC          0.122013  0.733854  0.338238  0.769327  0.729987"
      ]
     },
     "execution_count": 82,
     "metadata": {},
     "output_type": "execute_result"
    }
   ],
   "source": [
    "org_scores"
   ]
  },
  {
   "cell_type": "markdown",
   "metadata": {},
   "source": [
    "#### PCA Data"
   ]
  },
  {
   "cell_type": "code",
   "execution_count": 83,
   "metadata": {},
   "outputs": [
    {
     "data": {
      "text/html": [
       "<div>\n",
       "<style scoped>\n",
       "    .dataframe tbody tr th:only-of-type {\n",
       "        vertical-align: middle;\n",
       "    }\n",
       "\n",
       "    .dataframe tbody tr th {\n",
       "        vertical-align: top;\n",
       "    }\n",
       "\n",
       "    .dataframe thead th {\n",
       "        text-align: right;\n",
       "    }\n",
       "</style>\n",
       "<table border=\"1\" class=\"dataframe\">\n",
       "  <thead>\n",
       "    <tr style=\"text-align: right;\">\n",
       "      <th></th>\n",
       "      <th>KNN</th>\n",
       "      <th>RFR</th>\n",
       "      <th>SGD</th>\n",
       "      <th>XGB</th>\n",
       "      <th>ADA</th>\n",
       "    </tr>\n",
       "  </thead>\n",
       "  <tbody>\n",
       "    <tr>\n",
       "      <th>Accuracy</th>\n",
       "      <td>0.721751</td>\n",
       "      <td>0.814961</td>\n",
       "      <td>0.801540</td>\n",
       "      <td>0.813382</td>\n",
       "      <td>0.804303</td>\n",
       "    </tr>\n",
       "    <tr>\n",
       "      <th>Recall</th>\n",
       "      <td>0.940410</td>\n",
       "      <td>0.857943</td>\n",
       "      <td>0.846185</td>\n",
       "      <td>0.853543</td>\n",
       "      <td>0.855623</td>\n",
       "    </tr>\n",
       "    <tr>\n",
       "      <th>Specificity</th>\n",
       "      <td>0.369655</td>\n",
       "      <td>0.745750</td>\n",
       "      <td>0.729650</td>\n",
       "      <td>0.748712</td>\n",
       "      <td>0.721664</td>\n",
       "    </tr>\n",
       "    <tr>\n",
       "      <th>AUROC</th>\n",
       "      <td>0.655032</td>\n",
       "      <td>0.801846</td>\n",
       "      <td>0.787917</td>\n",
       "      <td>0.801128</td>\n",
       "      <td>0.788644</td>\n",
       "    </tr>\n",
       "    <tr>\n",
       "      <th>MCC</th>\n",
       "      <td>0.393740</td>\n",
       "      <td>0.606755</td>\n",
       "      <td>0.578417</td>\n",
       "      <td>0.604072</td>\n",
       "      <td>0.582757</td>\n",
       "    </tr>\n",
       "  </tbody>\n",
       "</table>\n",
       "</div>"
      ],
      "text/plain": [
       "                  KNN       RFR       SGD       XGB       ADA\n",
       "Accuracy     0.721751  0.814961  0.801540  0.813382  0.804303\n",
       "Recall       0.940410  0.857943  0.846185  0.853543  0.855623\n",
       "Specificity  0.369655  0.745750  0.729650  0.748712  0.721664\n",
       "AUROC        0.655032  0.801846  0.787917  0.801128  0.788644\n",
       "MCC          0.393740  0.606755  0.578417  0.604072  0.582757"
      ]
     },
     "execution_count": 83,
     "metadata": {},
     "output_type": "execute_result"
    }
   ],
   "source": [
    "pca_scores"
   ]
  },
  {
   "cell_type": "markdown",
   "metadata": {},
   "source": [
    "### Best Model Selection"
   ]
  },
  {
   "cell_type": "markdown",
   "metadata": {},
   "source": [
    "In choosing our best model, we compared the best performing model from each data set.  In this case, the best model overall was the XGBoost Classifier with original data: it has the best metric scores, most importantly it has the highest AUROC score.  We considered our AUROC scores to be most informative because it tells us how distinct our classes are: a score of 0.8822 indicates our classes are significantly distinct."
   ]
  },
  {
   "cell_type": "markdown",
   "metadata": {},
   "source": [
    "### Best Model Metrics"
   ]
  },
  {
   "cell_type": "code",
   "execution_count": 84,
   "metadata": {},
   "outputs": [
    {
     "data": {
      "image/png": "[encoded data removed]",
      "text/plain": [
       "<Figure size 1296x432 with 1 Axes>"
      ]
     },
     "metadata": {},
     "output_type": "display_data"
    }
   ],
   "source": [
    "graphs.barplot(df     = org_scores,\n",
    "               x      = org_scores.index,\n",
    "               y      = \"XGB\",\n",
    "               title  = \"XGBoost Classifier With Original Data\",\n",
    "               label  = \"Metric\",\n",
    "               ylabel = \"Score\",\n",
    "               ticks  = np.arange(0,1.1,0.1),\n",
    "               dim    = (18,6))"
   ]
  },
  {
   "cell_type": "markdown",
   "metadata": {},
   "source": [
    "Our accuracy is significantly higher than our baseline of ~62%, which is good.  Our recall and specificity are good, but our specificity is lower because there was less of our negative class in the data.\n",
    "\n",
    "Our other two metrics are strong: the AUROC looks at how distinct our classes are while the MCC is essentially a correlation between the true and predicted values.  They tell us that our classes are distinct and our predictions are very similar to the true values."
   ]
  },
  {
   "cell_type": "markdown",
   "metadata": {},
   "source": [
    "#### Best Model Curve"
   ]
  },
  {
   "cell_type": "code",
   "execution_count": 85,
   "metadata": {},
   "outputs": [
    {
     "data": {
      "image/png": "[encoded data removed]",
      "text/plain": [
       "<Figure size 1008x576 with 1 Axes>"
      ]
     },
     "metadata": {},
     "output_type": "display_data"
    }
   ],
   "source": [
    "roc_curve(model_prob  = xgb,\n",
    "          X_test      = X_test,\n",
    "          y_test      = y_test,\n",
    "          y_predicted = xgb_preds,\n",
    "          title       = \"ROC Curve For A XGBoost Classifier\",\n",
    "          dim         = (14,8))"
   ]
  },
  {
   "cell_type": "markdown",
   "metadata": {},
   "source": [
    "Ideally the curve would be a 90° angle, but our curve is not bad: it indicates strong model performance but it could be better."
   ]
  },
  {
   "cell_type": "markdown",
   "metadata": {},
   "source": [
    "[Top](#Table-Of-Contents)"
   ]
  }
 ],
 "metadata": {
  "kernelspec": {
   "display_name": "Python 3",
   "language": "python",
   "name": "python3"
  },
  "language_info": {
   "codemirror_mode": {
    "name": "ipython",
    "version": 3
   },
   "file_extension": ".py",
   "mimetype": "text/x-python",
   "name": "python",
   "nbconvert_exporter": "python",
   "pygments_lexer": "ipython3",
   "version": "3.6.8"
  }
 },
 "nbformat": 4,
 "nbformat_minor": 2
}
