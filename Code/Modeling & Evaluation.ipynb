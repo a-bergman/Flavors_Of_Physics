{
 "cells": [
  {
   "cell_type": "markdown",
   "metadata": {},
   "source": [
    "# Part 2: Modeling & Evaluation"
   ]
  },
  {
   "cell_type": "markdown",
   "metadata": {},
   "source": [
    "## Imports"
   ]
  },
  {
   "cell_type": "code",
   "execution_count": 1,
   "metadata": {},
   "outputs": [
    {
     "data": {
      "text/html": [
       "<style>.container { width:95% !important; }</style>"
      ],
      "text/plain": [
       "<IPython.core.display.HTML object>"
      ]
     },
     "metadata": {},
     "output_type": "display_data"
    }
   ],
   "source": [
    "# Standard Imports\n",
    "import warnings\n",
    "import pandas                as pd\n",
    "import numpy                 as np\n",
    "import matplotlib.pyplot     as plt\n",
    "\n",
    "# Modeling & Preprocessing Imports\n",
    "from sklearn.model_selection import train_test_split, cross_val_score, GridSearchCV\n",
    "from sklearn.pipeline        import Pipeline\n",
    "from sklearn.preprocessing   import MinMaxScaler\n",
    "from sklearn.decomposition   import PCA\n",
    "from sklearn.neighbors       import KNeighborsClassifier\n",
    "from sklearn.ensemble        import RandomForestClassifier\n",
    "from sklearn.linear_model    import SGDClassifier\n",
    "from sklearn.svm             import SVC\n",
    "from xgboost                 import XGBClassifier\n",
    "\n",
    "# Custom Modules & Visualizations\n",
    "import graphs\n",
    "from model_evaluation        import confusion_matrix_dataframe, classification_summary\n",
    "from sklearn.tree            import export_graphviz\n",
    "\n",
    "# Appearance\n",
    "from IPython.core.display    import display, HTML\n",
    "\n",
    "# Notebook Preferences\n",
    "display(HTML(\"<style>.container { width:95% !important; }</style>\"))\n",
    "warnings.filterwarnings(\"ignore\")\n",
    "%matplotlib inline"
   ]
  },
  {
   "cell_type": "markdown",
   "metadata": {},
   "source": [
    "## Table Of Contents\n",
    "\n",
    "- [Data Overview](#Data-Overview)\n",
    "    - [Reading In The Data](#Reading-In-The-Data)\n",
    "    - [Overview](#Overview)\n",
    "    \n",
    "- [Preprocessing](#Preprocessing)\n",
    "    - [Train-Test Split](#Train-Test-Split)\n",
    "    - [Principal Component Analysis](#Principal-Component-Analysis)\n",
    "    \n",
    "- [Modeling](#Modeling)\n",
    "    - [_k_-Neighbors Classifier](#_k_-Neighbors-Classifier)\n",
    "    - [Random Forest Classifier](#Random-Forest-Classifier)\n",
    "    - [SGD Logistic Regressor](#SGD-Logistic-Regression)\n",
    "    - [XGBoost Classifier](#XGBoost-Classifier)\n",
    "    - [Support Vector Classifier](#Support-Vector-Classifier)\n",
    "    \n",
    "- [Evaluation](#Evaluation)\n",
    "    - [Predictions Dataframe](#Predictions-Dataframe)"
   ]
  },
  {
   "cell_type": "markdown",
   "metadata": {},
   "source": [
    "## Data Overview"
   ]
  },
  {
   "cell_type": "markdown",
   "metadata": {},
   "source": [
    "### Reading In The Daa"
   ]
  },
  {
   "cell_type": "code",
   "execution_count": 2,
   "metadata": {},
   "outputs": [],
   "source": [
    "phys_data = pd.read_csv(\"../Data/clean_phys_data.csv\")"
   ]
  },
  {
   "cell_type": "markdown",
   "metadata": {},
   "source": [
    "### Overview"
   ]
  },
  {
   "cell_type": "code",
   "execution_count": 3,
   "metadata": {},
   "outputs": [
    {
     "data": {
      "text/html": [
       "<div>\n",
       "<style scoped>\n",
       "    .dataframe tbody tr th:only-of-type {\n",
       "        vertical-align: middle;\n",
       "    }\n",
       "\n",
       "    .dataframe tbody tr th {\n",
       "        vertical-align: top;\n",
       "    }\n",
       "\n",
       "    .dataframe thead th {\n",
       "        text-align: right;\n",
       "    }\n",
       "</style>\n",
       "<table border=\"1\" class=\"dataframe\">\n",
       "  <thead>\n",
       "    <tr style=\"text-align: right;\">\n",
       "      <th></th>\n",
       "      <th>id</th>\n",
       "      <th>life_time</th>\n",
       "      <th>dira</th>\n",
       "      <th>flight_distance</th>\n",
       "      <th>flight_distance_error</th>\n",
       "      <th>ip</th>\n",
       "      <th>ip_sig</th>\n",
       "      <th>vertex_chi2</th>\n",
       "      <th>pt</th>\n",
       "      <th>doca1</th>\n",
       "      <th>...</th>\n",
       "      <th>p1_pt</th>\n",
       "      <th>p2_pt</th>\n",
       "      <th>p0_p</th>\n",
       "      <th>p1_p</th>\n",
       "      <th>p2_p</th>\n",
       "      <th>p0_eta</th>\n",
       "      <th>p1_eta</th>\n",
       "      <th>p2_eta</th>\n",
       "      <th>spdhits</th>\n",
       "      <th>signal</th>\n",
       "    </tr>\n",
       "  </thead>\n",
       "  <tbody>\n",
       "    <tr>\n",
       "      <th>0</th>\n",
       "      <td>18453471</td>\n",
       "      <td>0.001578</td>\n",
       "      <td>0.999999</td>\n",
       "      <td>14.033335</td>\n",
       "      <td>0.681401</td>\n",
       "      <td>0.016039</td>\n",
       "      <td>0.451886</td>\n",
       "      <td>1.900433</td>\n",
       "      <td>1482.037476</td>\n",
       "      <td>0.066667</td>\n",
       "      <td>...</td>\n",
       "      <td>448.369446</td>\n",
       "      <td>1393.246826</td>\n",
       "      <td>3842.096436</td>\n",
       "      <td>12290.760742</td>\n",
       "      <td>39264.398438</td>\n",
       "      <td>3.076006</td>\n",
       "      <td>4.003800</td>\n",
       "      <td>4.031514</td>\n",
       "      <td>458</td>\n",
       "      <td>0</td>\n",
       "    </tr>\n",
       "    <tr>\n",
       "      <th>1</th>\n",
       "      <td>5364094</td>\n",
       "      <td>0.000988</td>\n",
       "      <td>0.999705</td>\n",
       "      <td>5.536157</td>\n",
       "      <td>0.302341</td>\n",
       "      <td>0.142163</td>\n",
       "      <td>9.564503</td>\n",
       "      <td>0.865666</td>\n",
       "      <td>3050.720703</td>\n",
       "      <td>0.024022</td>\n",
       "      <td>...</td>\n",
       "      <td>2033.918701</td>\n",
       "      <td>747.137024</td>\n",
       "      <td>8299.368164</td>\n",
       "      <td>16562.667969</td>\n",
       "      <td>7341.257812</td>\n",
       "      <td>3.228553</td>\n",
       "      <td>2.786543</td>\n",
       "      <td>2.975564</td>\n",
       "      <td>406</td>\n",
       "      <td>0</td>\n",
       "    </tr>\n",
       "    <tr>\n",
       "      <th>2</th>\n",
       "      <td>11130990</td>\n",
       "      <td>0.000877</td>\n",
       "      <td>0.999984</td>\n",
       "      <td>6.117302</td>\n",
       "      <td>0.276463</td>\n",
       "      <td>0.034746</td>\n",
       "      <td>1.970751</td>\n",
       "      <td>10.975849</td>\n",
       "      <td>3895.908691</td>\n",
       "      <td>0.055044</td>\n",
       "      <td>...</td>\n",
       "      <td>2576.380615</td>\n",
       "      <td>963.652466</td>\n",
       "      <td>11323.134766</td>\n",
       "      <td>22695.388672</td>\n",
       "      <td>10225.309570</td>\n",
       "      <td>3.536903</td>\n",
       "      <td>2.865686</td>\n",
       "      <td>3.052810</td>\n",
       "      <td>196</td>\n",
       "      <td>0</td>\n",
       "    </tr>\n",
       "    <tr>\n",
       "      <th>3</th>\n",
       "      <td>15173787</td>\n",
       "      <td>0.000854</td>\n",
       "      <td>0.999903</td>\n",
       "      <td>5.228067</td>\n",
       "      <td>0.220739</td>\n",
       "      <td>0.076389</td>\n",
       "      <td>4.271331</td>\n",
       "      <td>3.276358</td>\n",
       "      <td>4010.781738</td>\n",
       "      <td>0.053779</td>\n",
       "      <td>...</td>\n",
       "      <td>1351.734131</td>\n",
       "      <td>1685.003662</td>\n",
       "      <td>11502.081055</td>\n",
       "      <td>16909.515625</td>\n",
       "      <td>9141.426758</td>\n",
       "      <td>3.087461</td>\n",
       "      <td>3.218034</td>\n",
       "      <td>2.375592</td>\n",
       "      <td>137</td>\n",
       "      <td>0</td>\n",
       "    </tr>\n",
       "    <tr>\n",
       "      <th>4</th>\n",
       "      <td>1102544</td>\n",
       "      <td>0.001129</td>\n",
       "      <td>0.999995</td>\n",
       "      <td>39.069534</td>\n",
       "      <td>1.898197</td>\n",
       "      <td>0.120936</td>\n",
       "      <td>4.984982</td>\n",
       "      <td>0.468348</td>\n",
       "      <td>4144.546875</td>\n",
       "      <td>0.004491</td>\n",
       "      <td>...</td>\n",
       "      <td>1755.792236</td>\n",
       "      <td>1282.428711</td>\n",
       "      <td>74117.117188</td>\n",
       "      <td>97612.804688</td>\n",
       "      <td>47118.785156</td>\n",
       "      <td>4.632295</td>\n",
       "      <td>4.711155</td>\n",
       "      <td>4.296878</td>\n",
       "      <td>477</td>\n",
       "      <td>0</td>\n",
       "    </tr>\n",
       "  </tbody>\n",
       "</table>\n",
       "<p>5 rows × 48 columns</p>\n",
       "</div>"
      ],
      "text/plain": [
       "         id  life_time      dira  flight_distance  flight_distance_error  \\\n",
       "0  18453471   0.001578  0.999999        14.033335               0.681401   \n",
       "1   5364094   0.000988  0.999705         5.536157               0.302341   \n",
       "2  11130990   0.000877  0.999984         6.117302               0.276463   \n",
       "3  15173787   0.000854  0.999903         5.228067               0.220739   \n",
       "4   1102544   0.001129  0.999995        39.069534               1.898197   \n",
       "\n",
       "         ip    ip_sig  vertex_chi2           pt     doca1  ...        p1_pt  \\\n",
       "0  0.016039  0.451886     1.900433  1482.037476  0.066667  ...   448.369446   \n",
       "1  0.142163  9.564503     0.865666  3050.720703  0.024022  ...  2033.918701   \n",
       "2  0.034746  1.970751    10.975849  3895.908691  0.055044  ...  2576.380615   \n",
       "3  0.076389  4.271331     3.276358  4010.781738  0.053779  ...  1351.734131   \n",
       "4  0.120936  4.984982     0.468348  4144.546875  0.004491  ...  1755.792236   \n",
       "\n",
       "         p2_pt          p0_p          p1_p          p2_p    p0_eta    p1_eta  \\\n",
       "0  1393.246826   3842.096436  12290.760742  39264.398438  3.076006  4.003800   \n",
       "1   747.137024   8299.368164  16562.667969   7341.257812  3.228553  2.786543   \n",
       "2   963.652466  11323.134766  22695.388672  10225.309570  3.536903  2.865686   \n",
       "3  1685.003662  11502.081055  16909.515625   9141.426758  3.087461  3.218034   \n",
       "4  1282.428711  74117.117188  97612.804688  47118.785156  4.632295  4.711155   \n",
       "\n",
       "     p2_eta  spdhits  signal  \n",
       "0  4.031514      458       0  \n",
       "1  2.975564      406       0  \n",
       "2  3.052810      196       0  \n",
       "3  2.375592      137       0  \n",
       "4  4.296878      477       0  \n",
       "\n",
       "[5 rows x 48 columns]"
      ]
     },
     "execution_count": 3,
     "metadata": {},
     "output_type": "execute_result"
    }
   ],
   "source": [
    "# Head five rows\n",
    "\n",
    "phys_data.head()"
   ]
  },
  {
   "cell_type": "code",
   "execution_count": 4,
   "metadata": {},
   "outputs": [
    {
     "name": "stdout",
     "output_type": "stream",
     "text": [
      "The dataframe has 67553 rows and 48 rows.\n"
     ]
    }
   ],
   "source": [
    "# Shape of the data\n",
    "\n",
    "print(f\"The dataframe has {phys_data.shape[0]} rows and {phys_data.shape[1]} rows.\")"
   ]
  },
  {
   "cell_type": "code",
   "execution_count": 5,
   "metadata": {},
   "outputs": [
    {
     "data": {
      "text/plain": [
       "id                         int64\n",
       "life_time                float64\n",
       "dira                     float64\n",
       "flight_distance          float64\n",
       "flight_distance_error    float64\n",
       "ip                       float64\n",
       "ip_sig                   float64\n",
       "vertex_chi2              float64\n",
       "pt                       float64\n",
       "doca1                    float64\n",
       "doca2                    float64\n",
       "doca3                    float64\n",
       "ip_p0p2                  float64\n",
       "ip_p1p2                  float64\n",
       "isolationa                 int64\n",
       "isolationb                 int64\n",
       "isolationc                 int64\n",
       "isolationd               float64\n",
       "isolatione               float64\n",
       "isolationf               float64\n",
       "iso                      float64\n",
       "cdf1                     float64\n",
       "cdf2                     float64\n",
       "cdf3                     float64\n",
       "iso_sum_bdt              float64\n",
       "p0_iso_bdt               float64\n",
       "p1_iso_bdt               float64\n",
       "p2_iso_bdt               float64\n",
       "p0_track_chi2_dof        float64\n",
       "p1_track_chi2_dof        float64\n",
       "p2_track_chi2_dof        float64\n",
       "p0_ip                    float64\n",
       "p1_ip                    float64\n",
       "p2_ip                    float64\n",
       "p0_ip_sig                float64\n",
       "p1_ip_sig                float64\n",
       "p2_ip_sig                float64\n",
       "p0_pt                    float64\n",
       "p1_pt                    float64\n",
       "p2_pt                    float64\n",
       "p0_p                     float64\n",
       "p1_p                     float64\n",
       "p2_p                     float64\n",
       "p0_eta                   float64\n",
       "p1_eta                   float64\n",
       "p2_eta                   float64\n",
       "spdhits                    int64\n",
       "signal                     int64\n",
       "dtype: object"
      ]
     },
     "execution_count": 5,
     "metadata": {},
     "output_type": "execute_result"
    }
   ],
   "source": [
    "# Data types\n",
    "\n",
    "phys_data.dtypes"
   ]
  },
  {
   "cell_type": "code",
   "execution_count": 6,
   "metadata": {},
   "outputs": [
    {
     "data": {
      "text/plain": [
       "0"
      ]
     },
     "execution_count": 6,
     "metadata": {},
     "output_type": "execute_result"
    }
   ],
   "source": [
    "# Missing Values\n",
    "\n",
    "phys_data.isnull().sum().sum()"
   ]
  },
  {
   "cell_type": "markdown",
   "metadata": {},
   "source": [
    "## Preprocessing"
   ]
  },
  {
   "cell_type": "markdown",
   "metadata": {},
   "source": [
    "### Train-Test Split"
   ]
  },
  {
   "cell_type": "code",
   "execution_count": 7,
   "metadata": {},
   "outputs": [],
   "source": [
    "# Setting up our X and y variables\n",
    "\n",
    "X = phys_data.drop([\"id\", \"signal\"], axis = 1)\n",
    "y = phys_data[\"signal\"]"
   ]
  },
  {
   "cell_type": "code",
   "execution_count": 8,
   "metadata": {},
   "outputs": [],
   "source": [
    "# Instantiating the train-test split\n",
    "# Stratifying on the `y` allows us to\n",
    "# maintain the ration of the target\n",
    "\n",
    "X_train, X_test, y_train, y_test = train_test_split(X, \n",
    "                                                    y,\n",
    "                                                    random_state = 42,\n",
    "                                                    stratify     = y)"
   ]
  },
  {
   "cell_type": "markdown",
   "metadata": {},
   "source": [
    "Because our data has 48 columns, we are concerned that there will be significant variance in our models' performance.  To combat that, we will be making use of principal component analysis (PCA) to reduce the dimensionality of our data."
   ]
  },
  {
   "cell_type": "code",
   "execution_count": 9,
   "metadata": {},
   "outputs": [],
   "source": [
    "# MinMax scaling the data for the PCA\n",
    "\n",
    "# Instantiating the scaler\n",
    "mm_scaler  = MinMaxScaler()\n",
    "\n",
    "# Scaling the training data\n",
    "X_train_mm = mm_scaler.fit_transform(X_train)\n",
    "\n",
    "# Scaling the test data\n",
    "X_test_mm  = mm_scaler.fit_transform(X_test)"
   ]
  },
  {
   "cell_type": "markdown",
   "metadata": {},
   "source": [
    "### Principal Component Analysis"
   ]
  },
  {
   "attachments": {
    "explained%20variance%20chart.png": {
     "image/png": "[encoded data removed]"
    }
   },
   "cell_type": "markdown",
   "metadata": {},
   "source": [
    "PCA is a dimensionality reduction techinique that reduces the dimensionality of large data sets by transforming them into smaller ones. This method works by scaling the data (generally by subtracting the mean and then dividing by the standard deviation. Covariance matrices are created, transformed into eigenvectors from which eigenvalues are extracted. The principal components are then ranked by their eigenvalues. Then eigenvectors are created out of the principal components which then have the original values recast onto them.\n",
    "\n",
    "![explained%20variance%20chart.png](attachment:explained%20variance%20chart.png)\n",
    "\n",
    "Based on the image above, we concluded that our ideal number of components is 35."
   ]
  },
  {
   "cell_type": "code",
   "execution_count": 10,
   "metadata": {},
   "outputs": [],
   "source": [
    "# Instantiating PCA\n",
    "pca = PCA(n_components = 35,\n",
    "          random_state = 42,\n",
    "          whiten       = True)\n",
    "\n",
    "# Fit-transforming the training data\n",
    "X_train_pca = pca.fit_transform(X_train_mm)\n",
    "\n",
    "# Fit-transforming the test data\n",
    "X_test_pca  = pca.fit_transform(X_test_mm)"
   ]
  },
  {
   "cell_type": "markdown",
   "metadata": {},
   "source": [
    "## Modeling"
   ]
  },
  {
   "cell_type": "markdown",
   "metadata": {},
   "source": [
    "**Process**:\n",
    "\n",
    "The data will be classified using three different types of algorithms: distance based, decision trees, and logistic regression. Each individual model (four in total) will be gridsearched to ensure that our hyperparameters have optimal values; hyperparameters are parameters that the user must set.  After each model is fit to the data and has made predictions, they will be evaluated in two ways: a confusion matrix and a standardized set of metrics.\n",
    "\n",
    "Additionally, each model will be run on the original data and the data that has been through PCA.\n",
    "\n",
    "**Evaluation**:\n",
    "\n",
    "Our evaluation process has three steps: confusion matrices, metrics, and an ROC curve.\n",
    "\n",
    "The confusion matrix will show us what kind of predictions are made, i.e. false positives and negatives.  Each confusion matrix will contain:\n",
    " \n",
    "|                   | Pred. Neg.      | Pred. Pos.      |\n",
    "|:------------------|:---------------:|:---------------:|\n",
    "| **Actual Neg.** | True Negatives  | False Positives |\n",
    "| **Actual Pos.** | False Negatives | True Positives  |\n",
    "\n",
    "The metrics all us to evaluate the models in different ways.  Each model will be evaluated with the following:\n",
    "\n",
    "| Metric                                     | Description                                                                       | Scale    |\n",
    "|:-------------------------------------------|:----------------------------------------------------------------------------------|:--------:|\n",
    "| **Recall**                                 | How many positive classes were classified correctly out of all positives          | 0 to 1   |\n",
    "| **Specificity**                            | How many negative classes were classified correctly out of all negatives          | 0 to 1   |\n",
    "| **AUROC**                                  | A measure of the model's ability to distinguish classes                           | 0.5 to 1 |\n",
    "| **Matthews Correlation Coefficient (MCC)** | A measure of classification quality: correlation between true and prediced values | -1 to 1  |\n",
    "\n",
    "Finally, once we have chosen a best model we will generate a ROC curve for that model."
   ]
  },
  {
   "cell_type": "markdown",
   "metadata": {},
   "source": [
    "### _k_-Neighbors Classifier"
   ]
  },
  {
   "cell_type": "markdown",
   "metadata": {},
   "source": [
    "_k_-Neighbors classification is a non-parametric algorithm, i.e. it does not make any assumptions about the data.  It works based off of distance: it chooses _k_ points and classifies by choosing the majority."
   ]
  },
  {
   "cell_type": "markdown",
   "metadata": {},
   "source": [
    "#### Original Data"
   ]
  },
  {
   "cell_type": "code",
   "execution_count": null,
   "metadata": {},
   "outputs": [],
   "source": [
    "\"\"\"\n",
    "# Instantiating the grid search's pipeline\n",
    "knn_pipe  = Pipeline([(\"knn\", KNeighborsClassifier(n_jobs = 4))])\n",
    "\n",
    "# Setting up a hyperparameter dictionary\n",
    "# These are the optimal values\n",
    "params    = dict(knn__n_neighbors  = [7],\n",
    "                 knn__weights      = [\"uniform\"],\n",
    "                 knn__algorithm    = [\"auto\"])\n",
    "\n",
    "# Setting up the gridsearch object\n",
    "knn_gs    = GridSearchCV(knn_pipe, \n",
    "                         param_grid = params,\n",
    "                         cv         = 5)\n",
    "\n",
    "# Fitting the gridsearch to our training data\n",
    "knn_gs.fit(X_train_pca, y_train);\n",
    "\n",
    "# Printing out our best parameters\n",
    "knn_gs.best_params_\n",
    "\"\"\";"
   ]
  },
  {
   "cell_type": "code",
   "execution_count": 11,
   "metadata": {},
   "outputs": [],
   "source": [
    "# Instantiating the KNN classifier\n",
    "\n",
    "knn = KNeighborsClassifier(n_neighbors = 7)"
   ]
  },
  {
   "cell_type": "code",
   "execution_count": 12,
   "metadata": {},
   "outputs": [],
   "source": [
    "# Fitting the algorithm to our training data\n",
    "knn.fit(X_train, y_train)\n",
    "\n",
    "# Making training predictions\n",
    "train_preds = knn.predict(X_train)\n",
    "\n",
    "# Making test predictions\n",
    "knn_preds   = knn.predict(X_test)"
   ]
  },
  {
   "cell_type": "code",
   "execution_count": 13,
   "metadata": {},
   "outputs": [
    {
     "data": {
      "text/html": [
       "<div>\n",
       "<style scoped>\n",
       "    .dataframe tbody tr th:only-of-type {\n",
       "        vertical-align: middle;\n",
       "    }\n",
       "\n",
       "    .dataframe tbody tr th {\n",
       "        vertical-align: top;\n",
       "    }\n",
       "\n",
       "    .dataframe thead th {\n",
       "        text-align: right;\n",
       "    }\n",
       "</style>\n",
       "<table border=\"1\" class=\"dataframe\">\n",
       "  <thead>\n",
       "    <tr style=\"text-align: right;\">\n",
       "      <th></th>\n",
       "      <th>Scores</th>\n",
       "    </tr>\n",
       "  </thead>\n",
       "  <tbody>\n",
       "    <tr>\n",
       "      <th>Sensitivity</th>\n",
       "      <td>0.853271</td>\n",
       "    </tr>\n",
       "    <tr>\n",
       "      <th>Specificity</th>\n",
       "      <td>0.477459</td>\n",
       "    </tr>\n",
       "    <tr>\n",
       "      <th>MCC</th>\n",
       "      <td>0.360724</td>\n",
       "    </tr>\n",
       "    <tr>\n",
       "      <th>AUROC</th>\n",
       "      <td>0.665365</td>\n",
       "    </tr>\n",
       "  </tbody>\n",
       "</table>\n",
       "</div>"
      ],
      "text/plain": [
       "               Scores\n",
       "Sensitivity  0.853271\n",
       "Specificity  0.477459\n",
       "MCC          0.360724\n",
       "AUROC        0.665365"
      ]
     },
     "execution_count": 13,
     "metadata": {},
     "output_type": "execute_result"
    }
   ],
   "source": [
    "# Evaluating prediction on the training data\n",
    "\n",
    "classification_summary(y_train, train_preds)"
   ]
  },
  {
   "cell_type": "code",
   "execution_count": 14,
   "metadata": {},
   "outputs": [
    {
     "data": {
      "text/html": [
       "<div>\n",
       "<style scoped>\n",
       "    .dataframe tbody tr th:only-of-type {\n",
       "        vertical-align: middle;\n",
       "    }\n",
       "\n",
       "    .dataframe tbody tr th {\n",
       "        vertical-align: top;\n",
       "    }\n",
       "\n",
       "    .dataframe thead th {\n",
       "        text-align: right;\n",
       "    }\n",
       "</style>\n",
       "<table border=\"1\" class=\"dataframe\">\n",
       "  <thead>\n",
       "    <tr style=\"text-align: right;\">\n",
       "      <th></th>\n",
       "      <th>Scores</th>\n",
       "    </tr>\n",
       "  </thead>\n",
       "  <tbody>\n",
       "    <tr>\n",
       "      <th>Sensitivity</th>\n",
       "      <td>0.775506</td>\n",
       "    </tr>\n",
       "    <tr>\n",
       "      <th>Specificity</th>\n",
       "      <td>0.333539</td>\n",
       "    </tr>\n",
       "    <tr>\n",
       "      <th>MCC</th>\n",
       "      <td>0.119934</td>\n",
       "    </tr>\n",
       "    <tr>\n",
       "      <th>AUROC</th>\n",
       "      <td>0.554523</td>\n",
       "    </tr>\n",
       "  </tbody>\n",
       "</table>\n",
       "</div>"
      ],
      "text/plain": [
       "               Scores\n",
       "Sensitivity  0.775506\n",
       "Specificity  0.333539\n",
       "MCC          0.119934\n",
       "AUROC        0.554523"
      ]
     },
     "execution_count": 14,
     "metadata": {},
     "output_type": "execute_result"
    }
   ],
   "source": [
    "# Evaluating prediction on the test data\n",
    "\n",
    "classification_summary(y_test, knn_preds)"
   ]
  },
  {
   "cell_type": "code",
   "execution_count": 15,
   "metadata": {},
   "outputs": [
    {
     "data": {
      "text/html": [
       "<div>\n",
       "<style scoped>\n",
       "    .dataframe tbody tr th:only-of-type {\n",
       "        vertical-align: middle;\n",
       "    }\n",
       "\n",
       "    .dataframe tbody tr th {\n",
       "        vertical-align: top;\n",
       "    }\n",
       "\n",
       "    .dataframe thead th {\n",
       "        text-align: right;\n",
       "    }\n",
       "</style>\n",
       "<table border=\"1\" class=\"dataframe\">\n",
       "  <thead>\n",
       "    <tr style=\"text-align: right;\">\n",
       "      <th></th>\n",
       "      <th>Predicted τ</th>\n",
       "      <th>Predicted μμμ</th>\n",
       "    </tr>\n",
       "  </thead>\n",
       "  <tbody>\n",
       "    <tr>\n",
       "      <th>Actual τ</th>\n",
       "      <td>2158</td>\n",
       "      <td>4312</td>\n",
       "    </tr>\n",
       "    <tr>\n",
       "      <th>Actual μμμ</th>\n",
       "      <td>2339</td>\n",
       "      <td>8080</td>\n",
       "    </tr>\n",
       "  </tbody>\n",
       "</table>\n",
       "</div>"
      ],
      "text/plain": [
       "            Predicted τ  Predicted μμμ\n",
       "Actual τ           2158           4312\n",
       "Actual μμμ         2339           8080"
      ]
     },
     "execution_count": 15,
     "metadata": {},
     "output_type": "execute_result"
    }
   ],
   "source": [
    "# Creating a confusion matrix from the test predictions\n",
    "\n",
    "confusion_matrix_dataframe(y_test, \n",
    "                           knn_preds,\n",
    "                           columns = [\"Predicted τ\", \"Predicted μμμ\"],\n",
    "                           index   = [\"Actual τ\", \"Actual μμμ\"])"
   ]
  },
  {
   "cell_type": "markdown",
   "metadata": {},
   "source": [
    "#### Principal Component Analysis"
   ]
  },
  {
   "cell_type": "code",
   "execution_count": null,
   "metadata": {},
   "outputs": [],
   "source": [
    "\"\"\"\n",
    "# Instantiating the grid search's pipeline\n",
    "knn_pipe  = Pipeline([(\"knn\", KNeighborsClassifier(n_jobs = 6))])\n",
    "\n",
    "# Setting up a hyperparameter dictionary\n",
    "# These are the optimal values\n",
    "params    = dict(knn__n_neighbors  = [7],\n",
    "                 knn__weights      = [\"uniform\"],\n",
    "                 knn__algorithm    = [\"auto\"])\n",
    "\n",
    "# Setting up the gridsearch object\n",
    "knn_gs    = GridSearchCV(knn_pipe, \n",
    "                         param_grid = params,\n",
    "                         cv         = 5)\n",
    "\n",
    "# Fitting the gridsearch to our training data\n",
    "knn_gs.fit(X_train_pca, y_train);\n",
    "\n",
    "# Printing out our best parameters\n",
    "knn_gs.best_params_\n",
    "\"\"\";"
   ]
  },
  {
   "cell_type": "code",
   "execution_count": 21,
   "metadata": {},
   "outputs": [],
   "source": [
    "# Instantiating the k neighbors algorithm\n",
    "# The other parameters are their default values\n",
    "\n",
    "knn2 = KNeighborsClassifier(n_neighbors = 7)"
   ]
  },
  {
   "cell_type": "code",
   "execution_count": 22,
   "metadata": {},
   "outputs": [],
   "source": [
    "# Fitting the algorithm to our training data\n",
    "knn2.fit(X_train_pca, y_train)\n",
    "\n",
    "# Making training predictions\n",
    "train_preds = knn2.predict(X_train_pca)\n",
    "\n",
    "# Making test predictions\n",
    "knn2_preds   = knn2.predict(X_test_pca)"
   ]
  },
  {
   "cell_type": "code",
   "execution_count": 23,
   "metadata": {},
   "outputs": [
    {
     "data": {
      "text/html": [
       "<div>\n",
       "<style scoped>\n",
       "    .dataframe tbody tr th:only-of-type {\n",
       "        vertical-align: middle;\n",
       "    }\n",
       "\n",
       "    .dataframe tbody tr th {\n",
       "        vertical-align: top;\n",
       "    }\n",
       "\n",
       "    .dataframe thead th {\n",
       "        text-align: right;\n",
       "    }\n",
       "</style>\n",
       "<table border=\"1\" class=\"dataframe\">\n",
       "  <thead>\n",
       "    <tr style=\"text-align: right;\">\n",
       "      <th></th>\n",
       "      <th>Scores</th>\n",
       "    </tr>\n",
       "  </thead>\n",
       "  <tbody>\n",
       "    <tr>\n",
       "      <th>Sensitivity</th>\n",
       "      <td>0.969989</td>\n",
       "    </tr>\n",
       "    <tr>\n",
       "      <th>Specificity</th>\n",
       "      <td>0.647689</td>\n",
       "    </tr>\n",
       "    <tr>\n",
       "      <th>MCC</th>\n",
       "      <td>0.679052</td>\n",
       "    </tr>\n",
       "    <tr>\n",
       "      <th>AUROC</th>\n",
       "      <td>0.808839</td>\n",
       "    </tr>\n",
       "  </tbody>\n",
       "</table>\n",
       "</div>"
      ],
      "text/plain": [
       "               Scores\n",
       "Sensitivity  0.969989\n",
       "Specificity  0.647689\n",
       "MCC          0.679052\n",
       "AUROC        0.808839"
      ]
     },
     "execution_count": 23,
     "metadata": {},
     "output_type": "execute_result"
    }
   ],
   "source": [
    "# Evaluating prediction on the training data\n",
    "\n",
    "classification_summary(y_train, train_preds)"
   ]
  },
  {
   "cell_type": "code",
   "execution_count": 24,
   "metadata": {},
   "outputs": [
    {
     "data": {
      "text/html": [
       "<div>\n",
       "<style scoped>\n",
       "    .dataframe tbody tr th:only-of-type {\n",
       "        vertical-align: middle;\n",
       "    }\n",
       "\n",
       "    .dataframe tbody tr th {\n",
       "        vertical-align: top;\n",
       "    }\n",
       "\n",
       "    .dataframe thead th {\n",
       "        text-align: right;\n",
       "    }\n",
       "</style>\n",
       "<table border=\"1\" class=\"dataframe\">\n",
       "  <thead>\n",
       "    <tr style=\"text-align: right;\">\n",
       "      <th></th>\n",
       "      <th>Scores</th>\n",
       "    </tr>\n",
       "  </thead>\n",
       "  <tbody>\n",
       "    <tr>\n",
       "      <th>Sensitivity</th>\n",
       "      <td>0.918802</td>\n",
       "    </tr>\n",
       "    <tr>\n",
       "      <th>Specificity</th>\n",
       "      <td>0.318083</td>\n",
       "    </tr>\n",
       "    <tr>\n",
       "      <th>MCC</th>\n",
       "      <td>0.305193</td>\n",
       "    </tr>\n",
       "    <tr>\n",
       "      <th>AUROC</th>\n",
       "      <td>0.618443</td>\n",
       "    </tr>\n",
       "  </tbody>\n",
       "</table>\n",
       "</div>"
      ],
      "text/plain": [
       "               Scores\n",
       "Sensitivity  0.918802\n",
       "Specificity  0.318083\n",
       "MCC          0.305193\n",
       "AUROC        0.618443"
      ]
     },
     "execution_count": 24,
     "metadata": {},
     "output_type": "execute_result"
    }
   ],
   "source": [
    "# Evaluating prediction on the test data\n",
    "\n",
    "classification_summary(y_test, knn2_preds)"
   ]
  },
  {
   "cell_type": "code",
   "execution_count": 25,
   "metadata": {},
   "outputs": [
    {
     "data": {
      "text/html": [
       "<div>\n",
       "<style scoped>\n",
       "    .dataframe tbody tr th:only-of-type {\n",
       "        vertical-align: middle;\n",
       "    }\n",
       "\n",
       "    .dataframe tbody tr th {\n",
       "        vertical-align: top;\n",
       "    }\n",
       "\n",
       "    .dataframe thead th {\n",
       "        text-align: right;\n",
       "    }\n",
       "</style>\n",
       "<table border=\"1\" class=\"dataframe\">\n",
       "  <thead>\n",
       "    <tr style=\"text-align: right;\">\n",
       "      <th></th>\n",
       "      <th>Predicted τ</th>\n",
       "      <th>Predicted μμμ</th>\n",
       "    </tr>\n",
       "  </thead>\n",
       "  <tbody>\n",
       "    <tr>\n",
       "      <th>Actual τ</th>\n",
       "      <td>2058</td>\n",
       "      <td>4412</td>\n",
       "    </tr>\n",
       "    <tr>\n",
       "      <th>Actual μμμ</th>\n",
       "      <td>846</td>\n",
       "      <td>9573</td>\n",
       "    </tr>\n",
       "  </tbody>\n",
       "</table>\n",
       "</div>"
      ],
      "text/plain": [
       "            Predicted τ  Predicted μμμ\n",
       "Actual τ           2058           4412\n",
       "Actual μμμ          846           9573"
      ]
     },
     "execution_count": 25,
     "metadata": {},
     "output_type": "execute_result"
    }
   ],
   "source": [
    "# Creating a confusion matrix from the test predictions\n",
    "\n",
    "confusion_matrix_dataframe(y_test, \n",
    "                           knn2_preds,\n",
    "                           columns = [\"Predicted τ\", \"Predicted μμμ\"],\n",
    "                           index   = [\"Actual τ\", \"Actual μμμ\"])"
   ]
  },
  {
   "cell_type": "markdown",
   "metadata": {},
   "source": [
    "### Random Forest Classifier"
   ]
  },
  {
   "cell_type": "markdown",
   "metadata": {},
   "source": [
    "A random forest classifier is a tree-based classification method that incorporates two types of random selection: bootstrapping (random sampling of the data with replacement) and random selection of features."
   ]
  },
  {
   "cell_type": "markdown",
   "metadata": {},
   "source": [
    "#### Original Data"
   ]
  },
  {
   "cell_type": "code",
   "execution_count": 35,
   "metadata": {},
   "outputs": [
    {
     "data": {
      "text/plain": [
       "{'rfr__max_depth': 17, 'rfr__n_estimators': 600}"
      ]
     },
     "execution_count": 35,
     "metadata": {},
     "output_type": "execute_result"
    }
   ],
   "source": [
    "# Instantiating the grid search's pipeline\n",
    "rfr_pipe  = Pipeline([(\"rfr\", RandomForestClassifier(random_state = 42,\n",
    "                                                     n_jobs       = 4))])\n",
    "\n",
    "# Setting up a hyperparameter dictionary\n",
    "params    = dict(rfr__n_estimators = [600],\n",
    "                 rfr__max_depth    = [13,15,17])\n",
    "\n",
    "# Setting up the gridsearch object\n",
    "rfr_gs    = GridSearchCV(rfr_pipe, \n",
    "                         param_grid = params,\n",
    "                         cv         = 5)\n",
    "                          \n",
    "# Fitting the gridsearch to our training data\n",
    "rfr_gs.fit(X_train, y_train);\n",
    "\n",
    "# Printing out our best parameters\n",
    "rfr_gs.best_params_"
   ]
  },
  {
   "cell_type": "code",
   "execution_count": null,
   "metadata": {},
   "outputs": [],
   "source": [
    "# Instantiating the random forest classifier\n",
    "# Other parameters are at their defaults\n",
    "\n",
    "rfr = RandomForestClassifier(random_state      = 42,\n",
    "                             n_jobs            = 4,\n",
    "                             n_estimators      = 175,\n",
    "                             max_depth         = 25,\n",
    "                             min_samples_split = 3,\n",
    "                             min_samples_leaf  = 1)"
   ]
  },
  {
   "cell_type": "code",
   "execution_count": null,
   "metadata": {},
   "outputs": [],
   "source": [
    "# Fitting the algorithm to our training data\n",
    "rfr.fit(X_train_pca, y_train)\n",
    "\n",
    "# Making training predictions\n",
    "train_preds = rfr.predict(X_train_pca)\n",
    "\n",
    "# Making test predictions\n",
    "rfr_preds   = rfr.predict(X_test_pca)"
   ]
  },
  {
   "cell_type": "code",
   "execution_count": null,
   "metadata": {},
   "outputs": [],
   "source": [
    "# Evaluating prediction on the training data\n",
    "\n",
    "classification_summary(y_train, train_preds)"
   ]
  },
  {
   "cell_type": "code",
   "execution_count": null,
   "metadata": {},
   "outputs": [],
   "source": [
    "# Evaluating prediction on the test data\n",
    "\n",
    "classification_summary(y_test, rfr_preds)"
   ]
  },
  {
   "cell_type": "code",
   "execution_count": null,
   "metadata": {},
   "outputs": [],
   "source": [
    "confusion_matrix_dataframe(y_test, \n",
    "                           rfr_preds,\n",
    "                           columns = [\"Predicted τ\", \"Predicted μμμ\"],\n",
    "                           index   = [\"Actual τ\", \"Actual μμμ\"])"
   ]
  },
  {
   "cell_type": "code",
   "execution_count": null,
   "metadata": {},
   "outputs": [],
   "source": [
    "rfr_original_data = pd.DataFrame(rfr.feature_importances_,\n",
    "                                 columns = [\"RF - Original Data\"])\n",
    "\n",
    "rfr_original_data.sort_values(by = \"RF - Original Data\", ascending = False).head()"
   ]
  },
  {
   "cell_type": "markdown",
   "metadata": {},
   "source": [
    "### Principal Component Analysis"
   ]
  },
  {
   "cell_type": "code",
   "execution_count": null,
   "metadata": {},
   "outputs": [],
   "source": [
    "\"\"\"\n",
    "# Instantiating the grid search's pipeline\n",
    "rfr2_pipe  = Pipeline([(\"rfr2\", RandomForestClassifier(random_state = 42,\n",
    "                                                     n_jobs       = 4))])\n",
    "\n",
    "# Setting up a hyperparameter dictionary\n",
    "params    = dict(rfr2__n_estimators      = [193],\n",
    "                 rfr2__max_depth         = [22],\n",
    "                 rfr2__min_samples_split = [3],\n",
    "                 rfr2__min_samples_leaf  = [3])\n",
    "\n",
    "# Setting up the gridsearch object\n",
    "rfr2_gs    = GridSearchCV(rfr2_pipe, \n",
    "                         param_grid = params,\n",
    "                         cv         = 5)\n",
    "                          \n",
    "# Fitting the gridsearch to our training data\n",
    "rfr2_gs.fit(X_train_pca, y_train);\n",
    "\n",
    "# Printing out our best parameters\n",
    "rfr2_gs.best_params_\n",
    "\"\"\";"
   ]
  },
  {
   "cell_type": "code",
   "execution_count": null,
   "metadata": {},
   "outputs": [],
   "source": [
    "# Instantiating the random forest classifier\n",
    "# Other parameters are at their defaults\n",
    "\n",
    "rfr2 = RandomForestClassifier(random_state      = 42,\n",
    "                              n_jobs            = 4,\n",
    "                              n_estimators      = 193,\n",
    "                              max_depth         = 22,\n",
    "                              min_samples_split = 3,\n",
    "                              min_samples_leaf  = 3)"
   ]
  },
  {
   "cell_type": "code",
   "execution_count": null,
   "metadata": {},
   "outputs": [],
   "source": [
    "# Fitting the algorithm to our training data\n",
    "rfr2.fit(X_train_pca, y_train)\n",
    "\n",
    "# Making training predictions\n",
    "train_preds = rfr2.predict(X_train_pca)\n",
    "\n",
    "# Making test predictions\n",
    "rfr2_preds   = rfr2.predict(X_test_pca)"
   ]
  },
  {
   "cell_type": "code",
   "execution_count": null,
   "metadata": {},
   "outputs": [],
   "source": [
    "# Evaluating prediction on the training data\n",
    "\n",
    "classification_summary(y_train, train_preds)"
   ]
  },
  {
   "cell_type": "code",
   "execution_count": null,
   "metadata": {},
   "outputs": [],
   "source": [
    "# Evaluating prediction on the test data\n",
    "\n",
    "classification_summary(y_test, rfr2_preds)"
   ]
  },
  {
   "cell_type": "code",
   "execution_count": null,
   "metadata": {},
   "outputs": [],
   "source": [
    "confusion_matrix_dataframe(y_test, \n",
    "                           rfr2_preds,\n",
    "                           columns = [\"Predicted τ\", \"Predicted μμμ\"],\n",
    "                           index   = [\"Actual τ\", \"Actual μμμ\"])"
   ]
  },
  {
   "cell_type": "code",
   "execution_count": null,
   "metadata": {},
   "outputs": [],
   "source": [
    "rfr2_original_data = pd.DataFrame(rfr2.feature_importances_,\n",
    "                                 columns = [\"RF - PCA\"])\n",
    "\n",
    "rfr2_original_data.sort_values(by = \"RF - PCA\", ascending = False).head()"
   ]
  },
  {
   "cell_type": "markdown",
   "metadata": {},
   "source": [
    "### SGD Logistic Regressor"
   ]
  },
  {
   "cell_type": "markdown",
   "metadata": {},
   "source": [
    "The version of the logistic regression incorporates the use of stochastic gradient descent (SGD). Gradient descent is a way of minimizing a model's loss function (in this case cross-entropy) by taking \"steps\" to find the lowest (global) minimum. SGD is one of three main ways this is performed. As stochastic suggests, SGD logistic regression suggests a few points randomly from our data for each iteration of the mode and after each iteration the data is shuffled and resampled."
   ]
  },
  {
   "cell_type": "markdown",
   "metadata": {},
   "source": [
    "#### Original Data"
   ]
  },
  {
   "cell_type": "code",
   "execution_count": null,
   "metadata": {},
   "outputs": [],
   "source": [
    "\"\"\"\n",
    "# Instantiating the grid search's pipeline\n",
    "sgd_pipe = Pipeline([(\"sgd\", SGDClassifier(random_state = 42,\n",
    "                                           n_jobs       = 4))])\n",
    "\n",
    "# Setting up a hyperparameter dictionary\n",
    "# These are the optimal values\n",
    "params    = dict(sgd__loss           = [\"log\"],\n",
    "                 sgd__early_stopping = [False],\n",
    "                 sgd__penalty        = [\"l2\"],\n",
    "                 sgd__alpha          = [0.001],\n",
    "                 sgd__max_iter       = [5],\n",
    "                 sgd__tol            = [0.01])\n",
    "\n",
    "# Setting up the gridsearch object\n",
    "sgd_gs   = GridSearchCV(sgd_pipe, \n",
    "                        param_grid = params,\n",
    "                        cv         = 5)\n",
    "\n",
    "# Fitting the gridsearch to our training data\n",
    "sgd_gs.fit(X_train_pca, y_train);\n",
    "\n",
    "# Printing out our best parameters\n",
    "sgd_gs.best_params_\n",
    "\"\"\";"
   ]
  },
  {
   "cell_type": "code",
   "execution_count": null,
   "metadata": {},
   "outputs": [],
   "source": [
    "# Instantiating the sgd logistic regression classifier\n",
    "# Other parameters are at their defaults\n",
    "\n",
    "sgd = SGDClassifier(random_state   = 42,\n",
    "                    n_jobs         = 4,\n",
    "                    loss           = \"log\",\n",
    "                    early_stopping = False,\n",
    "                    penalty        = \"l2\",\n",
    "                    alpha          = 0.001,\n",
    "                    max_iter       = 5,\n",
    "                    tol            = 0.01)"
   ]
  },
  {
   "cell_type": "code",
   "execution_count": null,
   "metadata": {},
   "outputs": [],
   "source": [
    "# Fitting the algorithm to our training data\n",
    "sgd.fit(X_train_pca, y_train)\n",
    "\n",
    "# Making training predictions\n",
    "train_preds = sgd.predict(X_train_pca)\n",
    "\n",
    "# Making test predictions\n",
    "sgd_preds   = sgd.predict(X_test_pca)"
   ]
  },
  {
   "cell_type": "code",
   "execution_count": null,
   "metadata": {},
   "outputs": [],
   "source": [
    "# Evaluating prediction on the training data\n",
    "\n",
    "classification_summary(y_train, train_preds)"
   ]
  },
  {
   "cell_type": "code",
   "execution_count": null,
   "metadata": {},
   "outputs": [],
   "source": [
    "# Evaluating prediction on the test data\n",
    "\n",
    "classification_summary(y_test, sgd_preds)"
   ]
  },
  {
   "cell_type": "code",
   "execution_count": null,
   "metadata": {},
   "outputs": [],
   "source": [
    "confusion_matrix_dataframe(y_test, \n",
    "                           sgd_preds,\n",
    "                           columns = [\"Predicted τ\", \"Predicted μμμ\"],\n",
    "                           index   = [\"Actual τ\", \"Actual μμμ\"])"
   ]
  },
  {
   "cell_type": "code",
   "execution_count": null,
   "metadata": {},
   "outputs": [],
   "source": [
    "sgd_coefs = pd.DataFrame([np.exp(i) for i in sgd.coef_], index = [\"Coef.\"]).T\n",
    "sgd_coefs.sort_values(by = \"Coef.\", ascending = False).head()"
   ]
  },
  {
   "cell_type": "markdown",
   "metadata": {},
   "source": [
    "#### Principal Component Analysis"
   ]
  },
  {
   "cell_type": "code",
   "execution_count": null,
   "metadata": {},
   "outputs": [],
   "source": [
    "\"\"\"\n",
    "# Instantiating the grid search's pipeline\n",
    "sgd2_pipe = Pipeline([(\"sgd\", SGDClassifier(random_state = 42,\n",
    "                                           n_jobs       = 4))])\n",
    "\n",
    "# Setting up a hyperparameter dictionary\n",
    "# These are the optimal values\n",
    "params    = dict(sgd2__loss           = [\"log\"],\n",
    "                 sgd2__early_stopping = [False],\n",
    "                 sgd2__penalty        = [\"l2\"],\n",
    "                 sgd2__alpha          = [0.001],\n",
    "                 sgd2__max_iter       = [5],\n",
    "                 sgd2__tol            = [0.01])\n",
    "\n",
    "# Setting up the gridsearch object\n",
    "sgd2_gs   = GridSearchCV(sgd_pipe2, \n",
    "                         param_grid = params,\n",
    "                         cv         = 5)\n",
    "\n",
    "# Fitting the gridsearch to our training data\n",
    "sgd2_gs.fit(X_train_pca, y_train);\n",
    "\n",
    "# Printing out our best parameters\n",
    "sgd2_gs.best_params_\n",
    "\"\"\";"
   ]
  },
  {
   "cell_type": "code",
   "execution_count": null,
   "metadata": {},
   "outputs": [],
   "source": [
    "# Instantiating the SGD classifier\n",
    "\n",
    "sgd2 = SGDClassifier(random_state   = 42,\n",
    "                     n_jobs         = 4,\n",
    "                     loss           = \"log\",\n",
    "                     early_stopping = False,\n",
    "                     penalty        = \"l2\",\n",
    "                     alpha          = 0.001,\n",
    "                     max_iter       = 5,\n",
    "                     tol            = 0.01)"
   ]
  },
  {
   "cell_type": "code",
   "execution_count": null,
   "metadata": {},
   "outputs": [],
   "source": [
    "# Fitting the algorithm to our training data\n",
    "sgd2.fit(X_train_pca, y_train)\n",
    "\n",
    "# Making training predictions\n",
    "train_preds = sgd2.predict(X_train_pca)\n",
    "\n",
    "# Making test predictions\n",
    "sgd2_preds   = sgd2.predict(X_test_pca)"
   ]
  },
  {
   "cell_type": "code",
   "execution_count": null,
   "metadata": {},
   "outputs": [],
   "source": [
    "# Evaluating prediction on the training data\n",
    "\n",
    "classification_summary(y_train, train_preds)"
   ]
  },
  {
   "cell_type": "code",
   "execution_count": null,
   "metadata": {},
   "outputs": [],
   "source": [
    "# Evaluating prediction on the test data\n",
    "\n",
    "classification_summary(y_test, sgd2_preds)"
   ]
  },
  {
   "cell_type": "code",
   "execution_count": null,
   "metadata": {},
   "outputs": [],
   "source": [
    "confusion_matrix_dataframe(y_test, \n",
    "                           sgd2_preds,\n",
    "                           columns = [\"Predicted τ\", \"Predicted μμμ\"],\n",
    "                           index   = [\"Actual τ\", \"Actual μμμ\"])"
   ]
  },
  {
   "cell_type": "code",
   "execution_count": null,
   "metadata": {},
   "outputs": [],
   "source": [
    "sgd2_coefs = pd.DataFrame([np.exp(i) for i in sgd2.coef_], index = [\"Coef.\"]).T\n",
    "sgd2_coefs.sort_values(by = \"Coef.\", ascending = False).head()"
   ]
  },
  {
   "cell_type": "markdown",
   "metadata": {},
   "source": [
    "### XGBoost Classifier"
   ]
  },
  {
   "cell_type": "markdown",
   "metadata": {},
   "source": [
    "#### Original Data"
   ]
  },
  {
   "cell_type": "code",
   "execution_count": null,
   "metadata": {},
   "outputs": [],
   "source": [
    "#Instantiating the grid search's pipeline\n",
    "xgb_pipe = Pipeline([(\"xgb\", XGBClassifier(random_state = 42,\n",
    "                                           n_jobs       = 4,\n",
    "                                           verbosity    = 0))])\n",
    "\n",
    "# Setting up a hyperparameter dictionary\n",
    "# These are the optimal values\n",
    "params    = dict(xgb__max_depth    = [7],\n",
    "                 xgb__n_estimators = [100,150,200])\n",
    "\n",
    "# Setting up the gridsearch object\n",
    "xgb_gs   = GridSearchCV(xgb_pipe, \n",
    "                        param_grid = params,\n",
    "                        cv         = 5)\n",
    "\n",
    "# Fitting the gridsearch to our training data\n",
    "xgb_gs.fit(X_train_pca, y_train);\n",
    "\n",
    "# Printing out our best parameters\n",
    "xgb_gs.best_params_"
   ]
  },
  {
   "cell_type": "code",
   "execution_count": null,
   "metadata": {},
   "outputs": [],
   "source": [
    "xgb = XGBClassifier()"
   ]
  },
  {
   "cell_type": "markdown",
   "metadata": {},
   "source": [
    "#### Principal Component Analysis "
   ]
  },
  {
   "cell_type": "code",
   "execution_count": null,
   "metadata": {},
   "outputs": [],
   "source": [
    "\"\"\"\n",
    "Instantiating the grid search's pipeline\n",
    "xgb_pipe = Pipeline([(\"xgb2\", XGBClassifier(random_state = 42,\n",
    "                                           n_jobs       = 4,\n",
    "                                           verbosity    = 0))])\n",
    "\n",
    "# Setting up a hyperparameter dictionary\n",
    "# These are the optimal values\n",
    "params    = dict(xgb2__max_depth     = [8],\n",
    "                 xgb2__n_estimators  = [350],\n",
    "                 xgb2__learning_rate = [0.1],\n",
    "                 xgb2__booster       = [\"gbtree\"],\n",
    "                 xgb2__gamma         = [0])\n",
    "\n",
    "# Setting up the gridsearch object\n",
    "xgb2_gs   = GridSearchCV(xgb2_pipe, \n",
    "                         param_grid = params,\n",
    "                         cv         = 5)\n",
    "\n",
    "# Fitting the gridsearch to our training data\n",
    "xgb2_gs.fit(X_train_pca, y_train);\n",
    "\n",
    "# Printing out our best parameters\n",
    "xgb2_gs.best_params_\n",
    "\"\"\";"
   ]
  },
  {
   "cell_type": "code",
   "execution_count": null,
   "metadata": {},
   "outputs": [],
   "source": [
    "# Instantiating the XGBoost classifier\n",
    "# Other hyperparameters are defaults\n",
    "\n",
    "xgb2 = XGBClassifier(random_state = 42,\n",
    "                     n_jobs       = 4,\n",
    "                     verbosity    = 0,\n",
    "                     max_depth    = 8,\n",
    "                     n_estimators = 350)"
   ]
  },
  {
   "cell_type": "code",
   "execution_count": null,
   "metadata": {},
   "outputs": [],
   "source": [
    "# Fitting the algorithm to our training data\n",
    "xgb2.fit(X_train_pca, y_train)\n",
    "\n",
    "# Making training predictions\n",
    "train_preds = xgb2.predict(X_train_pca)\n",
    "\n",
    "# Making test predictions\n",
    "xgb2_preds   = xgb2.predict(X_test_pca)"
   ]
  },
  {
   "cell_type": "code",
   "execution_count": null,
   "metadata": {},
   "outputs": [],
   "source": [
    "# Evaluating prediction on the training data\n",
    "\n",
    "classification_summary(y_train, train_preds)"
   ]
  },
  {
   "cell_type": "code",
   "execution_count": null,
   "metadata": {},
   "outputs": [],
   "source": [
    "# Evaluating prediction on the test data\n",
    "\n",
    "classification_summary(y_test, xgb2_preds)"
   ]
  },
  {
   "cell_type": "code",
   "execution_count": null,
   "metadata": {},
   "outputs": [],
   "source": [
    "confusion_matrix_dataframe(y_test, \n",
    "                           xgb2_preds,\n",
    "                           columns = [\"Predicted τ\", \"Predicted μμμ\"],\n",
    "                           index   = [\"Actual τ\", \"Actual μμμ\"])"
   ]
  },
  {
   "cell_type": "markdown",
   "metadata": {},
   "source": [
    "## Evaluation"
   ]
  },
  {
   "cell_type": "markdown",
   "metadata": {},
   "source": [
    "### Predictions Dataframe"
   ]
  },
  {
   "cell_type": "markdown",
   "metadata": {},
   "source": [
    "#### Original Data"
   ]
  },
  {
   "cell_type": "code",
   "execution_count": 20,
   "metadata": {},
   "outputs": [
    {
     "data": {
      "text/html": [
       "<div>\n",
       "<style scoped>\n",
       "    .dataframe tbody tr th:only-of-type {\n",
       "        vertical-align: middle;\n",
       "    }\n",
       "\n",
       "    .dataframe tbody tr th {\n",
       "        vertical-align: top;\n",
       "    }\n",
       "\n",
       "    .dataframe thead th {\n",
       "        text-align: right;\n",
       "    }\n",
       "</style>\n",
       "<table border=\"1\" class=\"dataframe\">\n",
       "  <thead>\n",
       "    <tr style=\"text-align: right;\">\n",
       "      <th></th>\n",
       "      <th>True Value</th>\n",
       "      <th>KNN</th>\n",
       "    </tr>\n",
       "  </thead>\n",
       "  <tbody>\n",
       "    <tr>\n",
       "      <th>0</th>\n",
       "      <td>1</td>\n",
       "      <td>1</td>\n",
       "    </tr>\n",
       "    <tr>\n",
       "      <th>1</th>\n",
       "      <td>1</td>\n",
       "      <td>1</td>\n",
       "    </tr>\n",
       "    <tr>\n",
       "      <th>2</th>\n",
       "      <td>0</td>\n",
       "      <td>1</td>\n",
       "    </tr>\n",
       "    <tr>\n",
       "      <th>3</th>\n",
       "      <td>1</td>\n",
       "      <td>0</td>\n",
       "    </tr>\n",
       "    <tr>\n",
       "      <th>4</th>\n",
       "      <td>1</td>\n",
       "      <td>0</td>\n",
       "    </tr>\n",
       "  </tbody>\n",
       "</table>\n",
       "</div>"
      ],
      "text/plain": [
       "   True Value  KNN\n",
       "0           1    1\n",
       "1           1    1\n",
       "2           0    1\n",
       "3           1    0\n",
       "4           1    0"
      ]
     },
     "execution_count": 20,
     "metadata": {},
     "output_type": "execute_result"
    }
   ],
   "source": [
    "original_data_predictions = pd.DataFrame([np.array(y_test), knn_preds], index = [\"True Value\",\"KNN\"]).T\n",
    "original_data_predictions.head()"
   ]
  },
  {
   "cell_type": "markdown",
   "metadata": {},
   "source": [
    "#### Principal Component Analysis"
   ]
  },
  {
   "cell_type": "code",
   "execution_count": 26,
   "metadata": {},
   "outputs": [
    {
     "data": {
      "text/html": [
       "<div>\n",
       "<style scoped>\n",
       "    .dataframe tbody tr th:only-of-type {\n",
       "        vertical-align: middle;\n",
       "    }\n",
       "\n",
       "    .dataframe tbody tr th {\n",
       "        vertical-align: top;\n",
       "    }\n",
       "\n",
       "    .dataframe thead th {\n",
       "        text-align: right;\n",
       "    }\n",
       "</style>\n",
       "<table border=\"1\" class=\"dataframe\">\n",
       "  <thead>\n",
       "    <tr style=\"text-align: right;\">\n",
       "      <th></th>\n",
       "      <th>True Value</th>\n",
       "      <th>KNN</th>\n",
       "    </tr>\n",
       "  </thead>\n",
       "  <tbody>\n",
       "    <tr>\n",
       "      <th>0</th>\n",
       "      <td>1</td>\n",
       "      <td>1</td>\n",
       "    </tr>\n",
       "    <tr>\n",
       "      <th>1</th>\n",
       "      <td>1</td>\n",
       "      <td>1</td>\n",
       "    </tr>\n",
       "    <tr>\n",
       "      <th>2</th>\n",
       "      <td>0</td>\n",
       "      <td>1</td>\n",
       "    </tr>\n",
       "    <tr>\n",
       "      <th>3</th>\n",
       "      <td>1</td>\n",
       "      <td>1</td>\n",
       "    </tr>\n",
       "    <tr>\n",
       "      <th>4</th>\n",
       "      <td>1</td>\n",
       "      <td>1</td>\n",
       "    </tr>\n",
       "  </tbody>\n",
       "</table>\n",
       "</div>"
      ],
      "text/plain": [
       "   True Value  KNN\n",
       "0           1    1\n",
       "1           1    1\n",
       "2           0    1\n",
       "3           1    1\n",
       "4           1    1"
      ]
     },
     "execution_count": 26,
     "metadata": {},
     "output_type": "execute_result"
    }
   ],
   "source": [
    "pca_data_predictions = pd.DataFrame([np.array(y_test), knn2_preds], index = [\"True Value\",\"KNN\"]).T\n",
    "pca_data_predictions.head()"
   ]
  },
  {
   "cell_type": "code",
   "execution_count": null,
   "metadata": {},
   "outputs": [],
   "source": []
  }
 ],
 "metadata": {
  "kernelspec": {
   "display_name": "Python 3",
   "language": "python",
   "name": "python3"
  },
  "language_info": {
   "codemirror_mode": {
    "name": "ipython",
    "version": 3
   },
   "file_extension": ".py",
   "mimetype": "text/x-python",
   "name": "python",
   "nbconvert_exporter": "python",
   "pygments_lexer": "ipython3",
   "version": "3.6.8"
  }
 },
 "nbformat": 4,
 "nbformat_minor": 2
}
